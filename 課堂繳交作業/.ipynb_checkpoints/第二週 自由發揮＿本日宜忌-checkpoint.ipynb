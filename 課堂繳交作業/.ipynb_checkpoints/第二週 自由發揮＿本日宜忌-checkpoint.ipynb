{
 "cells": [
  {
   "cell_type": "code",
   "execution_count": 17,
   "metadata": {},
   "outputs": [
    {
     "name": "stdout",
     "output_type": "stream",
     "text": [
      "Populating the interactive namespace from numpy and matplotlib\n"
     ]
    }
   ],
   "source": [
    "%pylab inline"
   ]
  },
  {
   "cell_type": "code",
   "execution_count": 2,
   "metadata": {},
   "outputs": [
    {
     "name": "stdout",
     "output_type": "stream",
     "text": [
      "千\n",
      "請選擇你\n"
     ]
    },
    {
     "data": {
      "text/plain": [
       "'終極'"
      ]
     },
     "execution_count": 2,
     "metadata": {},
     "output_type": "execute_result"
    }
   ],
   "source": [
    "print (\"千\")\n",
    "f = input(\"請選擇\")\n",
    "random.choice([\"大集\", \"終極\", \"小吉\"])"
   ]
  },
  {
   "cell_type": "code",
   "execution_count": 14,
   "metadata": {},
   "outputs": [],
   "source": [
    "%matplotlib inline\n",
    "import numpy as np\n",
    "import matplotlib.pyplot as plt\n",
    "import pandas as pd\n",
    "import random"
   ]
  },
  {
   "cell_type": "code",
   "execution_count": 15,
   "metadata": {},
   "outputs": [],
   "source": [
    "from ipywidgets import interact"
   ]
  },
  {
   "cell_type": "code",
   "execution_count": 33,
   "metadata": {},
   "outputs": [],
   "source": [
    "def f (想問哪方面 = \" \"):\n",
    "        print (想問哪方面)"
   ]
  },
  {
   "cell_type": "code",
   "execution_count": 42,
   "metadata": {},
   "outputs": [
    {
     "data": {
      "application/vnd.jupyter.widget-view+json": {
       "model_id": "f129747f67214d4a918c035ece7c08cc",
       "version_major": 2,
       "version_minor": 0
      },
      "text/plain": [
       "interactive(children=(Dropdown(description='想問哪方面', options=('工作', '學業', '愛情', '寵物', '人際'), value='工作'), Outpu…"
      ]
     },
     "metadata": {},
     "output_type": "display_data"
    },
    {
     "ename": "TypeError",
     "evalue": "argument of type 'function' is not iterable",
     "output_type": "error",
     "traceback": [
      "\u001b[0;31m---------------------------------------------------------------------------\u001b[0m",
      "\u001b[0;31mTypeError\u001b[0m                                 Traceback (most recent call last)",
      "\u001b[0;32m<ipython-input-42-73dc014f05fb>\u001b[0m in \u001b[0;36m<module>\u001b[0;34m\u001b[0m\n\u001b[1;32m      1\u001b[0m \u001b[0mmessage\u001b[0m \u001b[0;34m=\u001b[0m \u001b[0minteract\u001b[0m\u001b[0;34m(\u001b[0m\u001b[0mf\u001b[0m\u001b[0;34m,\u001b[0m \u001b[0m想問哪方面\u001b[0m \u001b[0;34m=\u001b[0m \u001b[0;34m[\u001b[0m\u001b[0;34m\"工作\"\u001b[0m\u001b[0;34m,\u001b[0m \u001b[0;34m\"學業\"\u001b[0m\u001b[0;34m,\u001b[0m \u001b[0;34m\"愛情\"\u001b[0m\u001b[0;34m,\u001b[0m \u001b[0;34m\"寵物\"\u001b[0m\u001b[0;34m,\u001b[0m \u001b[0;34m\"人際\"\u001b[0m\u001b[0;34m]\u001b[0m\u001b[0;34m)\u001b[0m\u001b[0;34m;\u001b[0m\u001b[0;34m\u001b[0m\u001b[0;34m\u001b[0m\u001b[0m\n\u001b[0;32m----> 2\u001b[0;31m \u001b[0;32mif\u001b[0m \u001b[0;34m(\u001b[0m\u001b[0;34m\"工作\"\u001b[0m \u001b[0;32min\u001b[0m \u001b[0mmessage\u001b[0m\u001b[0;34m)\u001b[0m\u001b[0;34m:\u001b[0m\u001b[0;34m\u001b[0m\u001b[0;34m\u001b[0m\u001b[0m\n\u001b[0m\u001b[1;32m      3\u001b[0m     \u001b[0mprint\u001b[0m\u001b[0;34m(\u001b[0m\u001b[0;34m\"大\"\u001b[0m\u001b[0;34m)\u001b[0m\u001b[0;34m\u001b[0m\u001b[0;34m\u001b[0m\u001b[0m\n",
      "\u001b[0;31mTypeError\u001b[0m: argument of type 'function' is not iterable"
     ]
    }
   ],
   "source": [
    "message = interact(f, 想問哪方面 = [\"工作\", \"學業\", \"愛情\", \"寵物\", \"人際\"]);\n",
    "if (\"工作\" in message):\n",
    "    print(\"大\")"
   ]
  },
  {
   "cell_type": "code",
   "execution_count": null,
   "metadata": {},
   "outputs": [],
   "source": []
  },
  {
   "cell_type": "code",
   "execution_count": null,
   "metadata": {},
   "outputs": [],
   "source": []
  },
  {
   "cell_type": "code",
   "execution_count": 49,
   "metadata": {},
   "outputs": [
    {
     "name": "stdout",
     "output_type": "stream",
     "text": [
      "你有什麼困擾嗎？\n",
      " no\n",
      "那你來幹嘛\n",
      " yes\n"
     ]
    },
    {
     "data": {
      "application/vnd.jupyter.widget-view+json": {
       "model_id": "33406b1370ab4fa7b407ff086c8a19a0",
       "version_major": 2,
       "version_minor": 0
      },
      "text/plain": [
       "interactive(children=(Dropdown(description='今日不宜', options={'工作類': '假裝生病', '課業類': '寫作業', '寵物類': '沒餵罐頭', '人際類':…"
      ]
     },
     "metadata": {},
     "output_type": "display_data"
    },
    {
     "data": {
      "text/plain": [
       "<function __main__.b(今日不宜)>"
      ]
     },
     "execution_count": 49,
     "metadata": {},
     "output_type": "execute_result"
    }
   ],
   "source": [
    "print (\"你有什麼困擾嗎？\")\n",
    "\n",
    "while (True):\n",
    "    a = input(\" \")\n",
    "    if \"yes\" in a:\n",
    "        break\n",
    "    elif \"no\" in a:\n",
    "        print(\"那你來幹嘛\")\n",
    "def b(今日不宜):\n",
    "    print(今日不宜)\n",
    "interact(b, 今日不宜 = dict(工作類 = (\"假裝生病\" or \"認真上班\"), \n",
    "                                     課業類 = (\"寫作業\"),\n",
    "                                     寵物類 = (\"沒餵罐頭\"),\n",
    "                                     人際類 = (\"自己喝掉買一送一的星巴克\")))\n",
    "\n"
   ]
  },
  {
   "cell_type": "code",
   "execution_count": 23,
   "metadata": {},
   "outputs": [
    {
     "name": "stdout",
     "output_type": "stream",
     "text": [
      "請輸入一個數字4\n",
      "請輸入一個數字e\n",
      "請輸入一個數字bye\n",
      "我知道了\n"
     ]
    }
   ],
   "source": [
    "msg = \"趨吉避凶，測測今日不宜\"\n",
    "while (msg != \"bye\"):\n",
    "    msg = input(\"請輸入一個數字\")\n",
    "if (\"悲傷\" in message):\n",
    "    print (\"拍拍\")\n",
    "elif (\"開心\" in message):\n",
    "    print(\"棒棒\")\n",
    "else:\n",
    "    print(\"我知道了\")"
   ]
  },
  {
   "cell_type": "code",
   "execution_count": 40,
   "metadata": {},
   "outputs": [
    {
     "name": "stdout",
     "output_type": "stream",
     "text": [
      "你有什麼困擾嗎？\n"
     ]
    },
    {
     "data": {
      "application/vnd.jupyter.widget-view+json": {
       "model_id": "c079f520311d4c95b33df6ffc4550f62",
       "version_major": 2,
       "version_minor": 0
      },
      "text/plain": [
       "interactive(children=(Dropdown(description='今日不宜', options={'工作': '假裝生病', '課業': '寫作業', '寵物': '沒餵罐頭', '人際': '自己…"
      ]
     },
     "metadata": {},
     "output_type": "display_data"
    },
    {
     "data": {
      "text/plain": [
       "<function __main__.b(今日不宜)>"
      ]
     },
     "execution_count": 40,
     "metadata": {},
     "output_type": "execute_result"
    }
   ],
   "source": [
    "print (\"你有什麼困擾嗎？\")\n",
    "while (msg != \"bye\"):\n",
    "    msg = input(\" \")\n",
    "    if \"yes\" in msg:\n",
    "        print (\"請輸入一個數字\")\n",
    "        break\n",
    "    elif \"no\" in a:\n",
    "        print(\"那你來幹嘛\")\n",
    "interact(b, 今日不宜 = dict(工作 = (\"假裝生病\"),\n",
    "                                     課業= (\"寫作業\"),\n",
    "                                     寵物= (\"沒餵罐頭\"),\n",
    "                                     人際= (\"自己喝掉買一送一的星巴克\")))\n",
    "\n"
   ]
  },
  {
   "cell_type": "code",
   "execution_count": null,
   "metadata": {},
   "outputs": [],
   "source": []
  }
 ],
 "metadata": {
  "kernelspec": {
   "display_name": "Python 3",
   "language": "python",
   "name": "python3"
  },
  "language_info": {
   "codemirror_mode": {
    "name": "ipython",
    "version": 3
   },
   "file_extension": ".py",
   "mimetype": "text/x-python",
   "name": "python",
   "nbconvert_exporter": "python",
   "pygments_lexer": "ipython3",
   "version": "3.7.3"
  }
 },
 "nbformat": 4,
 "nbformat_minor": 2
}
