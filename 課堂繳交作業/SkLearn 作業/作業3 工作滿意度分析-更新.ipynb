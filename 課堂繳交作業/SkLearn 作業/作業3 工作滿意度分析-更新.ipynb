{
 "cells": [
  {
   "cell_type": "markdown",
   "metadata": {},
   "source": [
    "# 勞工生活及就業狀況調查"
   ]
  },
  {
   "cell_type": "markdown",
   "metadata": {},
   "source": [
    "## 資料來源：政府資料開放平台"
   ]
  },
  {
   "cell_type": "markdown",
   "metadata": {},
   "source": [
    " # （更新）延續上份作業，這份的目標是看為什麼收入低於兩萬者[很滿意]度會高，但最後沒找到"
   ]
  },
  {
   "cell_type": "code",
   "execution_count": 1,
   "metadata": {},
   "outputs": [],
   "source": [
    "%matplotlib inline\n",
    "import numpy as np\n",
    "import pandas as pd\n",
    "import matplotlib.pyplot as plt\n",
    "from ipywidgets import interact\n",
    "from sklearn.model_selection import train_test_split\n",
    "from sklearn.linear_model import LinearRegression\n",
    "import seaborn as sns\n",
    "sns.set()"
   ]
  },
  {
   "cell_type": "markdown",
   "metadata": {},
   "source": [
    "### 整體工作情形滿意度"
   ]
  },
  {
   "cell_type": "code",
   "execution_count": 2,
   "metadata": {},
   "outputs": [],
   "source": [
    "df = pd.read_csv('https://apiservice.mol.gov.tw/OdService/download/A17000000J-020078-LPO')"
   ]
  },
  {
   "cell_type": "code",
   "execution_count": 3,
   "metadata": {
    "scrolled": true
   },
   "outputs": [
    {
     "data": {
      "text/html": [
       "<div>\n",
       "<style scoped>\n",
       "    .dataframe tbody tr th:only-of-type {\n",
       "        vertical-align: middle;\n",
       "    }\n",
       "\n",
       "    .dataframe tbody tr th {\n",
       "        vertical-align: top;\n",
       "    }\n",
       "\n",
       "    .dataframe thead th {\n",
       "        text-align: right;\n",
       "    }\n",
       "</style>\n",
       "<table border=\"1\" class=\"dataframe\">\n",
       "  <thead>\n",
       "    <tr style=\"text-align: right;\">\n",
       "      <th></th>\n",
       "      <th>統計項目別</th>\n",
       "      <th>細項</th>\n",
       "      <th>樣本數（人）</th>\n",
       "      <th>很滿意（%）</th>\n",
       "      <th>滿意（%）</th>\n",
       "      <th>普通（%）</th>\n",
       "      <th>不滿意（%）</th>\n",
       "      <th>很不滿意（%）</th>\n",
       "    </tr>\n",
       "  </thead>\n",
       "  <tbody>\n",
       "    <tr>\n",
       "      <th>0</th>\n",
       "      <td>性別</td>\n",
       "      <td>男</td>\n",
       "      <td>1891</td>\n",
       "      <td>12.5</td>\n",
       "      <td>54.0</td>\n",
       "      <td>29.9</td>\n",
       "      <td>3.2</td>\n",
       "      <td>0.5</td>\n",
       "    </tr>\n",
       "    <tr>\n",
       "      <th>1</th>\n",
       "      <td>性別</td>\n",
       "      <td>女</td>\n",
       "      <td>2191</td>\n",
       "      <td>11.8</td>\n",
       "      <td>57.2</td>\n",
       "      <td>28.0</td>\n",
       "      <td>2.6</td>\n",
       "      <td>0.4</td>\n",
       "    </tr>\n",
       "    <tr>\n",
       "      <th>2</th>\n",
       "      <td>年齡</td>\n",
       "      <td>15-24歲</td>\n",
       "      <td>246</td>\n",
       "      <td>15.7</td>\n",
       "      <td>49.8</td>\n",
       "      <td>33.1</td>\n",
       "      <td>1.4</td>\n",
       "      <td>-</td>\n",
       "    </tr>\n",
       "    <tr>\n",
       "      <th>3</th>\n",
       "      <td>年齡</td>\n",
       "      <td>25-44歲</td>\n",
       "      <td>2573</td>\n",
       "      <td>11.0</td>\n",
       "      <td>55.5</td>\n",
       "      <td>29.5</td>\n",
       "      <td>3.5</td>\n",
       "      <td>0.5</td>\n",
       "    </tr>\n",
       "    <tr>\n",
       "      <th>4</th>\n",
       "      <td>年齡</td>\n",
       "      <td>25-34歲</td>\n",
       "      <td>1348</td>\n",
       "      <td>10.5</td>\n",
       "      <td>54.6</td>\n",
       "      <td>30.8</td>\n",
       "      <td>3.4</td>\n",
       "      <td>0.7</td>\n",
       "    </tr>\n",
       "  </tbody>\n",
       "</table>\n",
       "</div>"
      ],
      "text/plain": [
       "  統計項目別      細項  樣本數（人）  很滿意（%）  滿意（%）  普通（%） 不滿意（%） 很不滿意（%）\n",
       "0    性別       男    1891    12.5   54.0   29.9    3.2     0.5\n",
       "1    性別       女    2191    11.8   57.2   28.0    2.6     0.4\n",
       "2    年齡  15-24歲     246    15.7   49.8   33.1    1.4       -\n",
       "3    年齡  25-44歲    2573    11.0   55.5   29.5    3.5     0.5\n",
       "4    年齡  25-34歲    1348    10.5   54.6   30.8    3.4     0.7"
      ]
     },
     "execution_count": 3,
     "metadata": {},
     "output_type": "execute_result"
    }
   ],
   "source": [
    "df.head()"
   ]
  },
  {
   "cell_type": "markdown",
   "metadata": {},
   "source": [
    "# 看一下總共統計了哪些項目"
   ]
  },
  {
   "cell_type": "code",
   "execution_count": 4,
   "metadata": {},
   "outputs": [
    {
     "name": "stdout",
     "output_type": "stream",
     "text": [
      "0       性別\n",
      "1       性別\n",
      "2       年齡\n",
      "3       年齡\n",
      "4       年齡\n",
      "5       年齡\n",
      "6       年齡\n",
      "7       年齡\n",
      "8       年齡\n",
      "9       年齡\n",
      "10    教育程度\n",
      "11    教育程度\n",
      "12    教育程度\n",
      "13    教育程度\n",
      "14    每月收入\n",
      "15    每月收入\n",
      "16    每月收入\n",
      "17    每月收入\n",
      "18    每月收入\n",
      "19    每月收入\n",
      "20    每月收入\n",
      "21    每月收入\n",
      "22    每月收入\n",
      "23      地區\n",
      "24      地區\n",
      "25      地區\n",
      "26      地區\n",
      "27      規模\n",
      "28      規模\n",
      "29      規模\n",
      "      ... \n",
      "43      行業\n",
      "44      行業\n",
      "45      行業\n",
      "46      行業\n",
      "47      行業\n",
      "48      行業\n",
      "49      行業\n",
      "50      行業\n",
      "51      行業\n",
      "52      行業\n",
      "53      行業\n",
      "54      行業\n",
      "55      行業\n",
      "56      職業\n",
      "57      職業\n",
      "58      職業\n",
      "59      職業\n",
      "60      職業\n",
      "61      職業\n",
      "62      職業\n",
      "63      職業\n",
      "64      職業\n",
      "65    工作年資\n",
      "66    工作年資\n",
      "67    工作年資\n",
      "68    工作年資\n",
      "69    工作年資\n",
      "70    工作年資\n",
      "71    工作年資\n",
      "72    工作年資\n",
      "Name: 統計項目別, Length: 73, dtype: object 0                   男\n",
      "1                   女\n",
      "2              15-24歲\n",
      "3              25-44歲\n",
      "4              25-34歲\n",
      "5              35-44歲\n",
      "6              45-64歲\n",
      "7              45-54歲\n",
      "8              55-64歲\n",
      "9               65歲以上\n",
      "10              國中及以下\n",
      "11              高中（職）\n",
      "12              專科及大學\n",
      "13              碩士及以上\n",
      "14          未滿19,047元\n",
      "15      19,047元-未滿2萬元\n",
      "16         2萬-未滿2.5萬元\n",
      "17         2.5萬-未滿3萬元\n",
      "18           3萬-未滿4萬元\n",
      "19           4萬-未滿6萬元\n",
      "20           6萬-未滿8萬元\n",
      "21          8萬-未滿10萬元\n",
      "22             10萬元以上\n",
      "23               北部地區\n",
      "24               中部地區\n",
      "25               南部地區\n",
      "26               東部地區\n",
      "27              29人以下\n",
      "28             30-49人\n",
      "29            50-199人\n",
      "           ...       \n",
      "43             批發及零售業\n",
      "44             運輸及倉儲業\n",
      "45             住宿及餐飲業\n",
      "46           資訊及通訊傳播業\n",
      "47             金融及保險業\n",
      "48               不動產業\n",
      "49        專業、科學及技術服務業\n",
      "50              支援服務業\n",
      "51    公共行政及國防;強制性社會安全\n",
      "52              教育服務業\n",
      "53       醫療保健及社會工作服務業\n",
      "54        藝術、娛樂及休閒服務業\n",
      "55              其他服務業\n",
      "56       民意代表、主管及經理人員\n",
      "57               專業人員\n",
      "58         技術員及助理專業人員\n",
      "59             事務支援人員\n",
      "60          服務及銷售工作人員\n",
      "61          農林漁牧業生產人員\n",
      "62           技藝有關工作人員\n",
      "63        機械設備操作及組裝人員\n",
      "64          基層技術工及勞力工\n",
      "65               未滿2年\n",
      "66            2年-未滿5年\n",
      "67           5年-未滿10年\n",
      "68          10年-未滿15年\n",
      "69          15年-未滿20年\n",
      "70          20年-未滿25年\n",
      "71          25年-未滿30年\n",
      "72              30年以上\n",
      "Name: 細項, Length: 73, dtype: object\n"
     ]
    }
   ],
   "source": [
    "print(df.統計項目別, df.細項)"
   ]
  },
  {
   "cell_type": "code",
   "execution_count": 6,
   "metadata": {
    "scrolled": true
   },
   "outputs": [],
   "source": [
    "df = df.rename(columns={'很滿意（%）':'很滿意'})"
   ]
  },
  {
   "cell_type": "markdown",
   "metadata": {},
   "source": []
  },
  {
   "cell_type": "code",
   "execution_count": 7,
   "metadata": {},
   "outputs": [],
   "source": [
    "df_sort = df.sort_values('很滿意', ascending = False)"
   ]
  },
  {
   "cell_type": "code",
   "execution_count": null,
   "metadata": {},
   "outputs": [],
   "source": []
  },
  {
   "cell_type": "markdown",
   "metadata": {},
   "source": [
    "# 看一下收入對滿意度的影響"
   ]
  },
  {
   "cell_type": "code",
   "execution_count": null,
   "metadata": {},
   "outputs": [],
   "source": [
    "dfm = df_sort[df_sort.統計項目別=='每月收入']"
   ]
  },
  {
   "cell_type": "code",
   "execution_count": null,
   "metadata": {
    "scrolled": true
   },
   "outputs": [],
   "source": [
    "dfm"
   ]
  },
  {
   "cell_type": "code",
   "execution_count": null,
   "metadata": {},
   "outputs": [],
   "source": [
    "len(dfm)"
   ]
  },
  {
   "cell_type": "code",
   "execution_count": null,
   "metadata": {
    "scrolled": true
   },
   "outputs": [],
   "source": []
  },
  {
   "cell_type": "markdown",
   "metadata": {},
   "source": [
    "# 因為資料型態的關係無法做相關分析，因此一項一項拉出來看"
   ]
  },
  {
   "cell_type": "markdown",
   "metadata": {},
   "source": [
    "# 先假設收入低但很滿意跟年紀較輕有關"
   ]
  },
  {
   "cell_type": "code",
   "execution_count": null,
   "metadata": {
    "scrolled": true
   },
   "outputs": [],
   "source": []
  },
  {
   "cell_type": "code",
   "execution_count": null,
   "metadata": {},
   "outputs": [],
   "source": []
  },
  {
   "cell_type": "markdown",
   "metadata": {},
   "source": [
    "# 再看看是否因年資低"
   ]
  },
  {
   "cell_type": "code",
   "execution_count": 8,
   "metadata": {},
   "outputs": [],
   "source": [
    "dfb = df_sort[df_sort.統計項目別=='工作年資']"
   ]
  },
  {
   "cell_type": "code",
   "execution_count": 9,
   "metadata": {},
   "outputs": [
    {
     "data": {
      "text/html": [
       "<div>\n",
       "<style scoped>\n",
       "    .dataframe tbody tr th:only-of-type {\n",
       "        vertical-align: middle;\n",
       "    }\n",
       "\n",
       "    .dataframe tbody tr th {\n",
       "        vertical-align: top;\n",
       "    }\n",
       "\n",
       "    .dataframe thead th {\n",
       "        text-align: right;\n",
       "    }\n",
       "</style>\n",
       "<table border=\"1\" class=\"dataframe\">\n",
       "  <thead>\n",
       "    <tr style=\"text-align: right;\">\n",
       "      <th></th>\n",
       "      <th>統計項目別</th>\n",
       "      <th>細項</th>\n",
       "      <th>樣本數（人）</th>\n",
       "      <th>很滿意</th>\n",
       "      <th>滿意（%）</th>\n",
       "      <th>普通（%）</th>\n",
       "      <th>不滿意（%）</th>\n",
       "      <th>很不滿意（%）</th>\n",
       "    </tr>\n",
       "  </thead>\n",
       "  <tbody>\n",
       "    <tr>\n",
       "      <th>72</th>\n",
       "      <td>工作年資</td>\n",
       "      <td>30年以上</td>\n",
       "      <td>512</td>\n",
       "      <td>13.6</td>\n",
       "      <td>57.4</td>\n",
       "      <td>26.9</td>\n",
       "      <td>1.8</td>\n",
       "      <td>0.3</td>\n",
       "    </tr>\n",
       "    <tr>\n",
       "      <th>65</th>\n",
       "      <td>工作年資</td>\n",
       "      <td>未滿2年</td>\n",
       "      <td>201</td>\n",
       "      <td>12.7</td>\n",
       "      <td>54.3</td>\n",
       "      <td>30.6</td>\n",
       "      <td>2.4</td>\n",
       "      <td>-</td>\n",
       "    </tr>\n",
       "    <tr>\n",
       "      <th>70</th>\n",
       "      <td>工作年資</td>\n",
       "      <td>20年-未滿25年</td>\n",
       "      <td>524</td>\n",
       "      <td>12.5</td>\n",
       "      <td>57.8</td>\n",
       "      <td>26.1</td>\n",
       "      <td>3.2</td>\n",
       "      <td>0.4</td>\n",
       "    </tr>\n",
       "    <tr>\n",
       "      <th>67</th>\n",
       "      <td>工作年資</td>\n",
       "      <td>5年-未滿10年</td>\n",
       "      <td>716</td>\n",
       "      <td>12.2</td>\n",
       "      <td>52.8</td>\n",
       "      <td>30.3</td>\n",
       "      <td>4.1</td>\n",
       "      <td>0.6</td>\n",
       "    </tr>\n",
       "    <tr>\n",
       "      <th>71</th>\n",
       "      <td>工作年資</td>\n",
       "      <td>25年-未滿30年</td>\n",
       "      <td>377</td>\n",
       "      <td>12.1</td>\n",
       "      <td>57.9</td>\n",
       "      <td>28.4</td>\n",
       "      <td>1.2</td>\n",
       "      <td>0.4</td>\n",
       "    </tr>\n",
       "    <tr>\n",
       "      <th>68</th>\n",
       "      <td>工作年資</td>\n",
       "      <td>10年-未滿15年</td>\n",
       "      <td>711</td>\n",
       "      <td>11.7</td>\n",
       "      <td>55.9</td>\n",
       "      <td>28.7</td>\n",
       "      <td>3.4</td>\n",
       "      <td>0.3</td>\n",
       "    </tr>\n",
       "    <tr>\n",
       "      <th>69</th>\n",
       "      <td>工作年資</td>\n",
       "      <td>15年-未滿20年</td>\n",
       "      <td>610</td>\n",
       "      <td>11.5</td>\n",
       "      <td>57.4</td>\n",
       "      <td>28.0</td>\n",
       "      <td>2.6</td>\n",
       "      <td>0.6</td>\n",
       "    </tr>\n",
       "    <tr>\n",
       "      <th>66</th>\n",
       "      <td>工作年資</td>\n",
       "      <td>2年-未滿5年</td>\n",
       "      <td>431</td>\n",
       "      <td>11.3</td>\n",
       "      <td>52.9</td>\n",
       "      <td>32.5</td>\n",
       "      <td>2.8</td>\n",
       "      <td>0.6</td>\n",
       "    </tr>\n",
       "  </tbody>\n",
       "</table>\n",
       "</div>"
      ],
      "text/plain": [
       "   統計項目別         細項  樣本數（人）   很滿意  滿意（%）  普通（%） 不滿意（%） 很不滿意（%）\n",
       "72  工作年資      30年以上     512  13.6   57.4   26.9    1.8     0.3\n",
       "65  工作年資       未滿2年     201  12.7   54.3   30.6    2.4       -\n",
       "70  工作年資  20年-未滿25年     524  12.5   57.8   26.1    3.2     0.4\n",
       "67  工作年資   5年-未滿10年     716  12.2   52.8   30.3    4.1     0.6\n",
       "71  工作年資  25年-未滿30年     377  12.1   57.9   28.4    1.2     0.4\n",
       "68  工作年資  10年-未滿15年     711  11.7   55.9   28.7    3.4     0.3\n",
       "69  工作年資  15年-未滿20年     610  11.5   57.4   28.0    2.6     0.6\n",
       "66  工作年資    2年-未滿5年     431  11.3   52.9   32.5    2.8     0.6"
      ]
     },
     "execution_count": 9,
     "metadata": {},
     "output_type": "execute_result"
    }
   ],
   "source": [
    "dfb"
   ]
  },
  {
   "cell_type": "markdown",
   "metadata": {},
   "source": [
    "# 年資對工作滿意的影響似乎不大，再看教育程度"
   ]
  },
  {
   "cell_type": "code",
   "execution_count": 10,
   "metadata": {},
   "outputs": [],
   "source": [
    "dfc = df_sort[df_sort.統計項目別=='教育程度']"
   ]
  },
  {
   "cell_type": "code",
   "execution_count": 11,
   "metadata": {},
   "outputs": [
    {
     "data": {
      "text/html": [
       "<div>\n",
       "<style scoped>\n",
       "    .dataframe tbody tr th:only-of-type {\n",
       "        vertical-align: middle;\n",
       "    }\n",
       "\n",
       "    .dataframe tbody tr th {\n",
       "        vertical-align: top;\n",
       "    }\n",
       "\n",
       "    .dataframe thead th {\n",
       "        text-align: right;\n",
       "    }\n",
       "</style>\n",
       "<table border=\"1\" class=\"dataframe\">\n",
       "  <thead>\n",
       "    <tr style=\"text-align: right;\">\n",
       "      <th></th>\n",
       "      <th>統計項目別</th>\n",
       "      <th>細項</th>\n",
       "      <th>樣本數（人）</th>\n",
       "      <th>很滿意</th>\n",
       "      <th>滿意（%）</th>\n",
       "      <th>普通（%）</th>\n",
       "      <th>不滿意（%）</th>\n",
       "      <th>很不滿意（%）</th>\n",
       "    </tr>\n",
       "  </thead>\n",
       "  <tbody>\n",
       "    <tr>\n",
       "      <th>10</th>\n",
       "      <td>教育程度</td>\n",
       "      <td>國中及以下</td>\n",
       "      <td>315</td>\n",
       "      <td>14.8</td>\n",
       "      <td>54.7</td>\n",
       "      <td>28.8</td>\n",
       "      <td>1.7</td>\n",
       "      <td>-</td>\n",
       "    </tr>\n",
       "    <tr>\n",
       "      <th>13</th>\n",
       "      <td>教育程度</td>\n",
       "      <td>碩士及以上</td>\n",
       "      <td>330</td>\n",
       "      <td>12.4</td>\n",
       "      <td>60.0</td>\n",
       "      <td>25.4</td>\n",
       "      <td>2</td>\n",
       "      <td>0.2</td>\n",
       "    </tr>\n",
       "    <tr>\n",
       "      <th>11</th>\n",
       "      <td>教育程度</td>\n",
       "      <td>高中（職）</td>\n",
       "      <td>1222</td>\n",
       "      <td>12.3</td>\n",
       "      <td>56.6</td>\n",
       "      <td>28.3</td>\n",
       "      <td>2.3</td>\n",
       "      <td>0.6</td>\n",
       "    </tr>\n",
       "    <tr>\n",
       "      <th>12</th>\n",
       "      <td>教育程度</td>\n",
       "      <td>專科及大學</td>\n",
       "      <td>2215</td>\n",
       "      <td>11.6</td>\n",
       "      <td>54.8</td>\n",
       "      <td>29.7</td>\n",
       "      <td>3.5</td>\n",
       "      <td>0.4</td>\n",
       "    </tr>\n",
       "  </tbody>\n",
       "</table>\n",
       "</div>"
      ],
      "text/plain": [
       "   統計項目別     細項  樣本數（人）   很滿意  滿意（%）  普通（%） 不滿意（%） 很不滿意（%）\n",
       "10  教育程度  國中及以下     315  14.8   54.7   28.8    1.7       -\n",
       "13  教育程度  碩士及以上     330  12.4   60.0   25.4      2     0.2\n",
       "11  教育程度  高中（職）    1222  12.3   56.6   28.3    2.3     0.6\n",
       "12  教育程度  專科及大學    2215  11.6   54.8   29.7    3.5     0.4"
      ]
     },
     "execution_count": 11,
     "metadata": {},
     "output_type": "execute_result"
    }
   ],
   "source": [
    "dfc"
   ]
  },
  {
   "cell_type": "markdown",
   "metadata": {},
   "source": [
    "# 覺得沒什麼意義，想畫直方圖來比較分配型態是否一致，但不知如何指定x與y的呈現"
   ]
  },
  {
   "cell_type": "code",
   "execution_count": 13,
   "metadata": {},
   "outputs": [
    {
     "ename": "ValueError",
     "evalue": "shape mismatch: objects cannot be broadcast to a single shape",
     "output_type": "error",
     "traceback": [
      "\u001b[0;31m---------------------------------------------------------------------------\u001b[0m",
      "\u001b[0;31mValueError\u001b[0m                                Traceback (most recent call last)",
      "\u001b[0;32m<ipython-input-13-c320743df714>\u001b[0m in \u001b[0;36m<module>\u001b[0;34m\u001b[0m\n\u001b[1;32m      1\u001b[0m \u001b[0mx\u001b[0m \u001b[0;34m=\u001b[0m \u001b[0mdfc\u001b[0m\u001b[0;34m.\u001b[0m\u001b[0m統計項目別\u001b[0m\u001b[0;34m==\u001b[0m\u001b[0;34m'每月收入'\u001b[0m\u001b[0;34m\u001b[0m\u001b[0;34m\u001b[0m\u001b[0m\n\u001b[1;32m      2\u001b[0m \u001b[0my\u001b[0m \u001b[0;34m=\u001b[0m \u001b[0mdfc\u001b[0m\u001b[0;34m==\u001b[0m\u001b[0;34m'很滿意'\u001b[0m\u001b[0;34m\u001b[0m\u001b[0;34m\u001b[0m\u001b[0m\n\u001b[0;32m----> 3\u001b[0;31m \u001b[0mplt\u001b[0m\u001b[0;34m.\u001b[0m\u001b[0mbar\u001b[0m\u001b[0;34m(\u001b[0m\u001b[0mx\u001b[0m\u001b[0;34m,\u001b[0m \u001b[0my\u001b[0m\u001b[0;34m)\u001b[0m\u001b[0;34m\u001b[0m\u001b[0;34m\u001b[0m\u001b[0m\n\u001b[0m",
      "\u001b[0;32m/Applications/anaconda3/lib/python3.7/site-packages/matplotlib/pyplot.py\u001b[0m in \u001b[0;36mbar\u001b[0;34m(x, height, width, bottom, align, data, **kwargs)\u001b[0m\n\u001b[1;32m   2432\u001b[0m     return gca().bar(\n\u001b[1;32m   2433\u001b[0m         \u001b[0mx\u001b[0m\u001b[0;34m,\u001b[0m \u001b[0mheight\u001b[0m\u001b[0;34m,\u001b[0m \u001b[0mwidth\u001b[0m\u001b[0;34m=\u001b[0m\u001b[0mwidth\u001b[0m\u001b[0;34m,\u001b[0m \u001b[0mbottom\u001b[0m\u001b[0;34m=\u001b[0m\u001b[0mbottom\u001b[0m\u001b[0;34m,\u001b[0m \u001b[0malign\u001b[0m\u001b[0;34m=\u001b[0m\u001b[0malign\u001b[0m\u001b[0;34m,\u001b[0m\u001b[0;34m\u001b[0m\u001b[0;34m\u001b[0m\u001b[0m\n\u001b[0;32m-> 2434\u001b[0;31m         **({\"data\": data} if data is not None else {}), **kwargs)\n\u001b[0m\u001b[1;32m   2435\u001b[0m \u001b[0;34m\u001b[0m\u001b[0m\n\u001b[1;32m   2436\u001b[0m \u001b[0;34m\u001b[0m\u001b[0m\n",
      "\u001b[0;32m/Applications/anaconda3/lib/python3.7/site-packages/matplotlib/__init__.py\u001b[0m in \u001b[0;36minner\u001b[0;34m(ax, data, *args, **kwargs)\u001b[0m\n\u001b[1;32m   1587\u001b[0m     \u001b[0;32mdef\u001b[0m \u001b[0minner\u001b[0m\u001b[0;34m(\u001b[0m\u001b[0max\u001b[0m\u001b[0;34m,\u001b[0m \u001b[0;34m*\u001b[0m\u001b[0margs\u001b[0m\u001b[0;34m,\u001b[0m \u001b[0mdata\u001b[0m\u001b[0;34m=\u001b[0m\u001b[0;32mNone\u001b[0m\u001b[0;34m,\u001b[0m \u001b[0;34m**\u001b[0m\u001b[0mkwargs\u001b[0m\u001b[0;34m)\u001b[0m\u001b[0;34m:\u001b[0m\u001b[0;34m\u001b[0m\u001b[0;34m\u001b[0m\u001b[0m\n\u001b[1;32m   1588\u001b[0m         \u001b[0;32mif\u001b[0m \u001b[0mdata\u001b[0m \u001b[0;32mis\u001b[0m \u001b[0;32mNone\u001b[0m\u001b[0;34m:\u001b[0m\u001b[0;34m\u001b[0m\u001b[0;34m\u001b[0m\u001b[0m\n\u001b[0;32m-> 1589\u001b[0;31m             \u001b[0;32mreturn\u001b[0m \u001b[0mfunc\u001b[0m\u001b[0;34m(\u001b[0m\u001b[0max\u001b[0m\u001b[0;34m,\u001b[0m \u001b[0;34m*\u001b[0m\u001b[0mmap\u001b[0m\u001b[0;34m(\u001b[0m\u001b[0msanitize_sequence\u001b[0m\u001b[0;34m,\u001b[0m \u001b[0margs\u001b[0m\u001b[0;34m)\u001b[0m\u001b[0;34m,\u001b[0m \u001b[0;34m**\u001b[0m\u001b[0mkwargs\u001b[0m\u001b[0;34m)\u001b[0m\u001b[0;34m\u001b[0m\u001b[0;34m\u001b[0m\u001b[0m\n\u001b[0m\u001b[1;32m   1590\u001b[0m \u001b[0;34m\u001b[0m\u001b[0m\n\u001b[1;32m   1591\u001b[0m         \u001b[0mbound\u001b[0m \u001b[0;34m=\u001b[0m \u001b[0mnew_sig\u001b[0m\u001b[0;34m.\u001b[0m\u001b[0mbind\u001b[0m\u001b[0;34m(\u001b[0m\u001b[0max\u001b[0m\u001b[0;34m,\u001b[0m \u001b[0;34m*\u001b[0m\u001b[0margs\u001b[0m\u001b[0;34m,\u001b[0m \u001b[0;34m**\u001b[0m\u001b[0mkwargs\u001b[0m\u001b[0;34m)\u001b[0m\u001b[0;34m\u001b[0m\u001b[0;34m\u001b[0m\u001b[0m\n",
      "\u001b[0;32m/Applications/anaconda3/lib/python3.7/site-packages/matplotlib/axes/_axes.py\u001b[0m in \u001b[0;36mbar\u001b[0;34m(self, x, height, width, bottom, align, **kwargs)\u001b[0m\n\u001b[1;32m   2373\u001b[0m         x, height, width, y, linewidth = np.broadcast_arrays(\n\u001b[1;32m   2374\u001b[0m             \u001b[0;31m# Make args iterable too.\u001b[0m\u001b[0;34m\u001b[0m\u001b[0;34m\u001b[0m\u001b[0;34m\u001b[0m\u001b[0m\n\u001b[0;32m-> 2375\u001b[0;31m             np.atleast_1d(x), height, width, y, linewidth)\n\u001b[0m\u001b[1;32m   2376\u001b[0m \u001b[0;34m\u001b[0m\u001b[0m\n\u001b[1;32m   2377\u001b[0m         \u001b[0;31m# Now that units have been converted, set the tick locations.\u001b[0m\u001b[0;34m\u001b[0m\u001b[0;34m\u001b[0m\u001b[0;34m\u001b[0m\u001b[0m\n",
      "\u001b[0;32m/Applications/anaconda3/lib/python3.7/site-packages/numpy/lib/stride_tricks.py\u001b[0m in \u001b[0;36mbroadcast_arrays\u001b[0;34m(*args, **kwargs)\u001b[0m\n\u001b[1;32m    257\u001b[0m     \u001b[0margs\u001b[0m \u001b[0;34m=\u001b[0m \u001b[0;34m[\u001b[0m\u001b[0mnp\u001b[0m\u001b[0;34m.\u001b[0m\u001b[0marray\u001b[0m\u001b[0;34m(\u001b[0m\u001b[0m_m\u001b[0m\u001b[0;34m,\u001b[0m \u001b[0mcopy\u001b[0m\u001b[0;34m=\u001b[0m\u001b[0;32mFalse\u001b[0m\u001b[0;34m,\u001b[0m \u001b[0msubok\u001b[0m\u001b[0;34m=\u001b[0m\u001b[0msubok\u001b[0m\u001b[0;34m)\u001b[0m \u001b[0;32mfor\u001b[0m \u001b[0m_m\u001b[0m \u001b[0;32min\u001b[0m \u001b[0margs\u001b[0m\u001b[0;34m]\u001b[0m\u001b[0;34m\u001b[0m\u001b[0;34m\u001b[0m\u001b[0m\n\u001b[1;32m    258\u001b[0m \u001b[0;34m\u001b[0m\u001b[0m\n\u001b[0;32m--> 259\u001b[0;31m     \u001b[0mshape\u001b[0m \u001b[0;34m=\u001b[0m \u001b[0m_broadcast_shape\u001b[0m\u001b[0;34m(\u001b[0m\u001b[0;34m*\u001b[0m\u001b[0margs\u001b[0m\u001b[0;34m)\u001b[0m\u001b[0;34m\u001b[0m\u001b[0;34m\u001b[0m\u001b[0m\n\u001b[0m\u001b[1;32m    260\u001b[0m \u001b[0;34m\u001b[0m\u001b[0m\n\u001b[1;32m    261\u001b[0m     \u001b[0;32mif\u001b[0m \u001b[0mall\u001b[0m\u001b[0;34m(\u001b[0m\u001b[0marray\u001b[0m\u001b[0;34m.\u001b[0m\u001b[0mshape\u001b[0m \u001b[0;34m==\u001b[0m \u001b[0mshape\u001b[0m \u001b[0;32mfor\u001b[0m \u001b[0marray\u001b[0m \u001b[0;32min\u001b[0m \u001b[0margs\u001b[0m\u001b[0;34m)\u001b[0m\u001b[0;34m:\u001b[0m\u001b[0;34m\u001b[0m\u001b[0;34m\u001b[0m\u001b[0m\n",
      "\u001b[0;32m/Applications/anaconda3/lib/python3.7/site-packages/numpy/lib/stride_tricks.py\u001b[0m in \u001b[0;36m_broadcast_shape\u001b[0;34m(*args)\u001b[0m\n\u001b[1;32m    191\u001b[0m     \u001b[0;31m# use the old-iterator because np.nditer does not handle size 0 arrays\u001b[0m\u001b[0;34m\u001b[0m\u001b[0;34m\u001b[0m\u001b[0;34m\u001b[0m\u001b[0m\n\u001b[1;32m    192\u001b[0m     \u001b[0;31m# consistently\u001b[0m\u001b[0;34m\u001b[0m\u001b[0;34m\u001b[0m\u001b[0;34m\u001b[0m\u001b[0m\n\u001b[0;32m--> 193\u001b[0;31m     \u001b[0mb\u001b[0m \u001b[0;34m=\u001b[0m \u001b[0mnp\u001b[0m\u001b[0;34m.\u001b[0m\u001b[0mbroadcast\u001b[0m\u001b[0;34m(\u001b[0m\u001b[0;34m*\u001b[0m\u001b[0margs\u001b[0m\u001b[0;34m[\u001b[0m\u001b[0;34m:\u001b[0m\u001b[0;36m32\u001b[0m\u001b[0;34m]\u001b[0m\u001b[0;34m)\u001b[0m\u001b[0;34m\u001b[0m\u001b[0;34m\u001b[0m\u001b[0m\n\u001b[0m\u001b[1;32m    194\u001b[0m     \u001b[0;31m# unfortunately, it cannot handle 32 or more arguments directly\u001b[0m\u001b[0;34m\u001b[0m\u001b[0;34m\u001b[0m\u001b[0;34m\u001b[0m\u001b[0m\n\u001b[1;32m    195\u001b[0m     \u001b[0;32mfor\u001b[0m \u001b[0mpos\u001b[0m \u001b[0;32min\u001b[0m \u001b[0mrange\u001b[0m\u001b[0;34m(\u001b[0m\u001b[0;36m32\u001b[0m\u001b[0;34m,\u001b[0m \u001b[0mlen\u001b[0m\u001b[0;34m(\u001b[0m\u001b[0margs\u001b[0m\u001b[0;34m)\u001b[0m\u001b[0;34m,\u001b[0m \u001b[0;36m31\u001b[0m\u001b[0;34m)\u001b[0m\u001b[0;34m:\u001b[0m\u001b[0;34m\u001b[0m\u001b[0;34m\u001b[0m\u001b[0m\n",
      "\u001b[0;31mValueError\u001b[0m: shape mismatch: objects cannot be broadcast to a single shape"
     ]
    },
    {
     "data": {
      "image/png": "[encoded data removed]",
      "text/plain": [
       "<Figure size 432x288 with 1 Axes>"
      ]
     },
     "metadata": {
      "needs_background": "light"
     },
     "output_type": "display_data"
    }
   ],
   "source": [
    "x = dfc.統計項目別=='每月收入'\n",
    "y = dfc=='很滿意'\n",
    "plt.bar(x, y)"
   ]
  },
  {
   "cell_type": "code",
   "execution_count": null,
   "metadata": {},
   "outputs": [],
   "source": []
  }
 ],
 "metadata": {
  "kernelspec": {
   "display_name": "Python 3",
   "language": "python",
   "name": "python3"
  },
  "language_info": {
   "codemirror_mode": {
    "name": "ipython",
    "version": 3
   },
   "file_extension": ".py",
   "mimetype": "text/x-python",
   "name": "python",
   "nbconvert_exporter": "python",
   "pygments_lexer": "ipython3",
   "version": "3.7.3"
  }
 },
 "nbformat": 4,
 "nbformat_minor": 2
}
