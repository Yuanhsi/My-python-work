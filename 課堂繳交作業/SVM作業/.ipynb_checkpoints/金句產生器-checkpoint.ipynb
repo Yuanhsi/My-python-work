{
 "cells": [
  {
   "cell_type": "code",
   "execution_count": 1,
   "metadata": {},
   "outputs": [],
   "source": [
    "%matplotlib inline\n",
    "import numpy as np\n",
    "import pandas as pd\n",
    "import matplotlib.pyplot as plt\n",
    "from ipywidgets import interact\n",
    "import random\n",
    "from numpy import random"
   ]
  },
  {
   "cell_type": "code",
   "execution_count": 26,
   "metadata": {},
   "outputs": [],
   "source": [
    "words_1 = ['坦白', '誠實', '教育', '真誠', '忠誠', '樸實', '努力', '勤勉', '虛偽', '立志']\n",
    "words_2 = ['開心', '失望', '難過', '關心', '憤怒', '挫折', '滿足', '悲傷']\n",
    "words_3 = ['開花', '消失', '貪心', '錯過', '未知', '回報', '模糊', '果實']"
   ]
  },
  {
   "cell_type": "code",
   "execution_count": 27,
   "metadata": {},
   "outputs": [
    {
     "data": {
      "application/vnd.jupyter.widget-view+json": {
       "model_id": "f8a635cc39854009aa53340a04cdec12",
       "version_major": 2,
       "version_minor": 0
      },
      "text/plain": [
       "interactive(children=(Dropdown(description='請選擇', options=('工作', '休閒', '學業', '居家', '人際'), value='工作'), Output(…"
      ]
     },
     "metadata": {},
     "output_type": "display_data"
    },
    {
     "name": "stdout",
     "output_type": "stream",
     "text": [
      "請隨機輸入一個數字2\n",
      "悲傷是努力的模糊\n",
      "請隨機輸入一個數字3\n",
      "憤怒是樸實的未知\n",
      "請隨機輸入一個數字1\n",
      "忠誠是挫折的錯過\n",
      "請隨機輸入一個數字2\n",
      "滿足是努力的模糊\n",
      "請隨機輸入一個數字4\n",
      "失望是坦白的錯過\n",
      "請隨機輸入一個數字5\n",
      "難過是勤勉的果實\n",
      "請隨機輸入一個數字bye\n",
      "開心是虛偽的模糊\n"
     ]
    }
   ],
   "source": [
    "def f(請選擇):\n",
    "    print (\" \")\n",
    "interact(f, 請選擇 = [\"工作\", \"休閒\", \"學業\", \"居家\", \"人際\"])\n",
    "\n",
    "msg = \"請隨機輸入一個數字\"\n",
    "while (msg !=\"bye\"):\n",
    "    msg = input (\"請隨機輸入一個數字\")\n",
    "    if \"1\" in msg:\n",
    "        RFS = random.choice (words_1)\n",
    "        RFV = random.choice (words_2)\n",
    "        RFQ = random.choice (words_3)\n",
    "        print (RFS+\"是\"+ RFV+\"的\" + RFQ)\n",
    "    else:\n",
    "        RFS = random.choice (words_1)\n",
    "        RFV = random.choice (words_2)\n",
    "        RFQ = random.choice (words_3)\n",
    "        print (RFV+\"是\"+ RFS+\"的\" + RFQ)"
   ]
  },
  {
   "cell_type": "code",
   "execution_count": null,
   "metadata": {},
   "outputs": [],
   "source": []
  }
 ],
 "metadata": {
  "kernelspec": {
   "display_name": "Python 3",
   "language": "python",
   "name": "python3"
  },
  "language_info": {
   "codemirror_mode": {
    "name": "ipython",
    "version": 3
   },
   "file_extension": ".py",
   "mimetype": "text/x-python",
   "name": "python",
   "nbconvert_exporter": "python",
   "pygments_lexer": "ipython3",
   "version": "3.7.3"
  }
 },
 "nbformat": 4,
 "nbformat_minor": 2
}
