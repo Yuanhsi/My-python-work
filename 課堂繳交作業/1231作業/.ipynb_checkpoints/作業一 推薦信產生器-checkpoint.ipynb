{
 "cells": [
  {
   "cell_type": "markdown",
   "metadata": {},
   "source": [
    "# 推薦信開頭內容大同小異，因此寫一個代換語詞的產生器"
   ]
  },
  {
   "cell_type": "code",
   "execution_count": 4,
   "metadata": {},
   "outputs": [],
   "source": [
    "%matplotlib inline\n",
    "\n",
    "import numpy as np\n",
    "import matplotlib.pyplot as plt\n",
    "import pandas as pd\n",
    "import random"
   ]
  },
  {
   "cell_type": "code",
   "execution_count": 14,
   "metadata": {},
   "outputs": [],
   "source": [
    "words_1 = [\"Dear Admission Committee,\",\"To whom it may concern,\" ]\n",
    "words_2= [\"best students\", \"advisees\"]\n",
    "words_3 = [\"adviser\", \"teacher\", \"professor\", \"superviosr\"]\n",
    "words_4 = [\"pasion\", \"diligence\", \"determination\" ]"
   ]
  },
  {
   "cell_type": "code",
   "execution_count": null,
   "metadata": {},
   "outputs": [],
   "source": []
  },
  {
   "cell_type": "code",
   "execution_count": 17,
   "metadata": {},
   "outputs": [
    {
     "name": "stdout",
     "output_type": "stream",
     "text": [
      "對學生的總評價是正向或負向？正\n",
      "請輸入學生名che\n",
      "To whom it may concern,As her formerprofessor, it is my pleasure to recommendche for acceptance to your master program.che was my one of mybest students when she was a first year student University. And then in her second and third year, she enrolled in my courses. Therefore, I had opportunities to observe her personality and performance closely. In my observation, she showed a great level ofpasiontowards her study, and most importantly, she successfully managed all challenges she encountered during classes.\n",
      "對學生的總評價是正向或負向？負\n",
      "請輸入學生名chang\n",
      "應該不要寫比較好\n",
      "對學生的總評價是正向或負向？bye\n",
      "請輸入學生名bye\n",
      "Dear Admission Committee,As her formersuperviosr, it is my pleasure to recommendbye for acceptance to your master program.bye was my one of mybest students when she was a first year student University. And then in her second and third year, she enrolled in my courses. Therefore, I had opportunities to observe her personality and performance closely. In my observation, she showed a great level ofpasiontowards her study, and most importantly, she successfully managed all challenges she encountered during classes.\n"
     ]
    }
   ],
   "source": [
    "msg = \"開始寫推薦信吧\"\n",
    "while (msg !=\"bye\"):\n",
    "    msg1 = input (\"請輸入學生名\")\n",
    "    msg = input (\"對學生的總評價是正向或負向？\")\n",
    "    if \"負\" in msg:\n",
    "        print (\"應該不要寫比較好\")\n",
    "    else: \n",
    "        RFS = random.choice (words_1)\n",
    "        RFV = random.choice (words_2)\n",
    "        RFQ = random.choice (words_3)\n",
    "        RFP = random.choice (words_4)\n",
    "        print (RFS + \"As her former \" + RFQ +\", it is my pleasure to recommend\"+ msg1+ \" for acceptance to your master program.\"+ msg1+ \" was my one of my\" +RFV+ \" when she was a first year student University. And then in her second and third year, she enrolled in my courses. Therefore, I had opportunities to observe her personality and performance closely. In my observation, she showed a great level of\"+ RFP +\"towards her study, and most importantly, she successfully managed all challenges she encountered during classes.\")"
   ]
  },
  {
   "cell_type": "code",
   "execution_count": null,
   "metadata": {},
   "outputs": [],
   "source": []
  }
 ],
 "metadata": {
  "kernelspec": {
   "display_name": "Python 3",
   "language": "python",
   "name": "python3"
  },
  "language_info": {
   "codemirror_mode": {
    "name": "ipython",
    "version": 3
   },
   "file_extension": ".py",
   "mimetype": "text/x-python",
   "name": "python",
   "nbconvert_exporter": "python",
   "pygments_lexer": "ipython3",
   "version": "3.7.3"
  }
 },
 "nbformat": 4,
 "nbformat_minor": 2
}
