{
 "cells": [
  {
   "cell_type": "markdown",
   "metadata": {},
   "source": [
    "# 依據勞基法第16條，繼續工作三個月以上一年未滿者，於十日前預告之；一年以上三年未滿，則必須於二十日前預告；工作三年以上，則要三十日前預告。"
   ]
  },
  {
   "cell_type": "markdown",
   "metadata": {},
   "source": [
    "## 但拿起日曆算日期很麻煩，所以想寫個程式讓python 做\n"
   ]
  },
  {
   "cell_type": "code",
   "execution_count": 1,
   "metadata": {},
   "outputs": [],
   "source": [
    "%matplotlib inline\n",
    "import numpy as np\n",
    "import pandas as pd\n",
    "import matplotlib.pyplot as plt\n",
    "import time\n",
    "import datetime\n",
    "from ipywidgets import interact"
   ]
  },
  {
   "cell_type": "code",
   "execution_count": null,
   "metadata": {},
   "outputs": [],
   "source": [
    "\n"
   ]
  },
  {
   "cell_type": "code",
   "execution_count": 6,
   "metadata": {},
   "outputs": [
    {
     "data": {
      "application/vnd.jupyter.widget-view+json": {
       "model_id": "9a5e783b84854b98931d05ea59455fc1",
       "version_major": 2,
       "version_minor": 0
      },
      "text/plain": [
       "interactive(children=(Dropdown(description='年資是', options={'三個月以上一年未滿': '十天前預告', '一年以上三年未滿': '二十天前預告', '三年以上':…"
      ]
     },
     "metadata": {},
     "output_type": "display_data"
    },
    {
     "data": {
      "text/plain": [
       "<function __main__.f(年資是)>"
      ]
     },
     "execution_count": 6,
     "metadata": {},
     "output_type": "execute_result"
    }
   ],
   "source": [
    "def f(年資是):\n",
    "    print (年資是)\n",
    "interact(f, 年資是=dict(三個月以上一年未滿=\"十天前預告\", 一年以上三年未滿=\"二十天前預告\", 三年以上=\"三十天前預告\"))\n"
   ]
  },
  {
   "cell_type": "code",
   "execution_count": null,
   "metadata": {},
   "outputs": [],
   "source": []
  },
  {
   "cell_type": "code",
   "execution_count": 11,
   "metadata": {},
   "outputs": [
    {
     "name": "stdout",
     "output_type": "stream",
     "text": [
      "2020-09-25\n"
     ]
    }
   ],
   "source": [
    "def getday(y = 2020, m = 8, d = 15, n = 0):\n",
    "    the_date = datetime.datetime(y,m,d)\n",
    "    result_date = the_date + datetime.timedelta(days = n)\n",
    "    d = result_date.strftime('%Y-%m-%d')\n",
    "    return d\n",
    "\n",
    "print (getday(2020, 10, 15, -20))\n",
    "# 10月15想離職，提前二十天告知\n"
   ]
  },
  {
   "cell_type": "code",
   "execution_count": null,
   "metadata": {},
   "outputs": [],
   "source": []
  }
 ],
 "metadata": {
  "kernelspec": {
   "display_name": "Python 3",
   "language": "python",
   "name": "python3"
  },
  "language_info": {
   "codemirror_mode": {
    "name": "ipython",
    "version": 3
   },
   "file_extension": ".py",
   "mimetype": "text/x-python",
   "name": "python",
   "nbconvert_exporter": "python",
   "pygments_lexer": "ipython3",
   "version": "3.7.3"
  }
 },
 "nbformat": 4,
 "nbformat_minor": 2
}
