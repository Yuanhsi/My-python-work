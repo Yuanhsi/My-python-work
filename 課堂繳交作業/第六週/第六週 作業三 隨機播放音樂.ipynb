{
 "cells": [
  {
   "cell_type": "code",
   "execution_count": 2,
   "metadata": {},
   "outputs": [],
   "source": [
    "%matplotlib inline\n",
    "import numpy as np\n",
    "import matplotlib.pyplot as plt\n",
    "import pandas as pd"
   ]
  },
  {
   "cell_type": "code",
   "execution_count": 3,
   "metadata": {},
   "outputs": [],
   "source": [
    "from ipywidgets import interact\n",
    "from IPython.display import display,HTML,Markdown,Image,YouTubeVideo"
   ]
  },
  {
   "cell_type": "code",
   "execution_count": 20,
   "metadata": {},
   "outputs": [
    {
     "data": {
      "application/vnd.jupyter.widget-view+json": {
       "model_id": "2589e6ec775646c3949a85fac793b34b",
       "version_major": 2,
       "version_minor": 0
      },
      "text/plain": [
       "interactive(children=(Dropdown(description='選擇', options=('study', 'happy', 'relax'), value='study'), Output()…"
      ]
     },
     "metadata": {},
     "output_type": "display_data"
    },
    {
     "data": {
      "text/plain": [
       "<function __main__.f(選擇)>"
      ]
     },
     "execution_count": 20,
     "metadata": {},
     "output_type": "execute_result"
    }
   ],
   "source": [
    "happy_myvideo = [\"fevOcHHRgrk\", \"B9qKAwa5l8M\", \"QyC2zZGK-E8\"]\n",
    "relax_myviedo = [\"F8DN2XyPESo\", \"rhivsDXIoYU\", \"abewRQxHgLo\", \"vv6UyoMNGbA\"]\n",
    "study_myvideo = [\"mJEDTUU9TRk\", \"McCWKdUlpQg\", \"3OlSCf0eJfI\", \"z0d8K1QN0FI\" , \"MqrqGfZcxZQ\"]\n",
    "happy = np.random.choice (happy_myvideo)\n",
    "relax = np.random.choice (relax_myviedo)\n",
    "study = np.random.choice (study_myvideo)\n",
    "def f(選擇):\n",
    "    if \"happy\" in 選擇:\n",
    "        video = YouTubeVideo(happy)\n",
    "        display(video)\n",
    "    elif \"relax\" in 選擇:\n",
    "        video2 = YouTubeVideo(relax)\n",
    "        display(video2)\n",
    "    elif \"study\" in 選擇:\n",
    "         video3 = YouTubeVideo(study)\n",
    "         display (video3)\n",
    "        \n",
    "interact (f, 選擇 = {\"happy\", \"relax\", \"study\"})"
   ]
  },
  {
   "cell_type": "code",
   "execution_count": null,
   "metadata": {},
   "outputs": [],
   "source": []
  }
 ],
 "metadata": {
  "kernelspec": {
   "display_name": "Python 3",
   "language": "python",
   "name": "python3"
  },
  "language_info": {
   "codemirror_mode": {
    "name": "ipython",
    "version": 3
   },
   "file_extension": ".py",
   "mimetype": "text/x-python",
   "name": "python",
   "nbconvert_exporter": "python",
   "pygments_lexer": "ipython3",
   "version": "3.7.3"
  }
 },
 "nbformat": 4,
 "nbformat_minor": 2
}
