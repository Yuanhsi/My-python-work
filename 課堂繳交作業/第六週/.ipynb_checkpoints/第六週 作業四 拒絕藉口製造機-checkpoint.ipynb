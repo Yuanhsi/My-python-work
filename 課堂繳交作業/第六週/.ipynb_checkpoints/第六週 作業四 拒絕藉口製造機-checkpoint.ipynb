{
 "cells": [
  {
   "cell_type": "code",
   "execution_count": 1,
   "metadata": {},
   "outputs": [],
   "source": [
    "%matplotlib inline\n",
    "\n",
    "import numpy as np\n",
    "import matplotlib.pyplot as plt\n",
    "import pandas as pd\n",
    "from numpy.random import choice\n",
    "import random\n",
    "from ipywidgets import interact_manual\n",
    "from ipywidgets import interact"
   ]
  },
  {
   "cell_type": "code",
   "execution_count": 2,
   "metadata": {},
   "outputs": [],
   "source": [
    "S = [\"我家的狗\", \"我打工的主管\", \"我朋友\", \"我爸\", \"我媽\", \"我哥\", \"我姐\", \"我同學\", \"我表哥\"]\n",
    "V = [\"預計\", \"答應\", \"準備\", \"打算\", \"想要\", \"需要\", \"要去\", \"那天\"]\n",
    "O = [\"有約我\", \"回家吃晚餐\", \"把作業弄丟\", \"家庭聚餐\", \"家庭旅遊\", \"看電影\", \"打工\"]"
   ]
  },
  {
   "cell_type": "code",
   "execution_count": 4,
   "metadata": {},
   "outputs": [
    {
     "data": {
      "application/vnd.jupyter.widget-view+json": {
       "model_id": "548a3a5c6f174b69876e1d9bd88753fe",
       "version_major": 2,
       "version_minor": 0
      },
      "text/plain": [
       "interactive(children=(Button(description='Run Interact', style=ButtonStyle()), Output()), _dom_classes=('widge…"
      ]
     },
     "metadata": {},
     "output_type": "display_data"
    },
    {
     "data": {
      "text/plain": [
       "<function __main__.excuse()>"
      ]
     },
     "execution_count": 4,
     "metadata": {},
     "output_type": "execute_result"
    }
   ],
   "source": [
    "def excuse():\n",
    "        RFS = random.choice (S)\n",
    "        RFV = random.choice (V)\n",
    "        RFQ = random.choice (O)\n",
    "        print (RFS, \"剛好\", RFV, RFQ)\n",
    "interact_manual(excuse)"
   ]
  },
  {
   "cell_type": "code",
   "execution_count": null,
   "metadata": {},
   "outputs": [],
   "source": []
  },
  {
   "cell_type": "code",
   "execution_count": null,
   "metadata": {},
   "outputs": [],
   "source": []
  }
 ],
 "metadata": {
  "kernelspec": {
   "display_name": "Python 3",
   "language": "python",
   "name": "python3"
  },
  "language_info": {
   "codemirror_mode": {
    "name": "ipython",
    "version": 3
   },
   "file_extension": ".py",
   "mimetype": "text/x-python",
   "name": "python",
   "nbconvert_exporter": "python",
   "pygments_lexer": "ipython3",
   "version": "3.7.3"
  }
 },
 "nbformat": 4,
 "nbformat_minor": 2
}
