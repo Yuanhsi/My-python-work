{
 "cells": [
  {
   "cell_type": "code",
   "execution_count": 2,
   "metadata": {},
   "outputs": [],
   "source": [
    "%matplotlib inline\n",
    "\n",
    "import numpy as np\n",
    "import pandas as pd\n",
    "import matplotlib.pyplot as plt\n",
    "from numpy.random import randint, choice, sample"
   ]
  },
  {
   "cell_type": "code",
   "execution_count": null,
   "metadata": {},
   "outputs": [],
   "source": []
  },
  {
   "cell_type": "code",
   "execution_count": 28,
   "metadata": {},
   "outputs": [],
   "source": [
    "words = '''\n",
    "喜鵲\n",
    "簷前\n",
    "報好\n",
    "知君\n",
    "千里\n",
    "欲歸\n",
    "繡幃\n",
    "重結\n",
    "鴛鴦\n",
    "葉落\n",
    "霜飛\n",
    "寒色\n",
    "日出\n",
    "便見\n",
    "風雲\n",
    "光明\n",
    "清淨\n",
    "照世\n",
    "一向\n",
    "前途\n",
    "通大\n",
    "萬事\n",
    "清吉\n",
    "平安\n",
    "於今\n",
    "此景\n",
    "正當\n",
    "看看\n",
    "欲吐\n",
    "百花\n",
    "若能\n",
    "遇得\n",
    "春色\n",
    "一洒\n",
    "清吉\n",
    "脫塵\n",
    "花開\n",
    "結子\n",
    "一半\n",
    "可惜\n",
    "今年\n",
    "虛度\n",
    "漸漸\n",
    "日落\n",
    "西山\n",
    "勸君\n",
    "不用\n",
    "前途\n",
    "枯木\n",
    "可惜\n",
    "逢春\n",
    "如今\n",
    "反在\n",
    "暗中\n",
    "寬心\n",
    "且守\n",
    "風霜\n",
    "還君\n",
    "依舊\n",
    "乾坤'''"
   ]
  },
  {
   "cell_type": "code",
   "execution_count": 29,
   "metadata": {},
   "outputs": [],
   "source": [
    "phrase = words.split('\\n')"
   ]
  },
  {
   "cell_type": "code",
   "execution_count": 36,
   "metadata": {},
   "outputs": [
    {
     "name": "stdout",
     "output_type": "stream",
     "text": [
      "照世平安花開\n",
      "遇得可惜重結\n",
      "光明喜鵲知君\n",
      "百花春色鴛鴦\n"
     ]
    }
   ],
   "source": [
    "n = randint(3, 7)\n",
    "for i in range (4):\n",
    "    k = randint (3, 7) \n",
    "    egg = choice(phrase, n)\n",
    "    ham = \"\".join(egg)\n",
    "    print (ham) "
   ]
  },
  {
   "cell_type": "code",
   "execution_count": null,
   "metadata": {},
   "outputs": [],
   "source": []
  },
  {
   "cell_type": "code",
   "execution_count": null,
   "metadata": {},
   "outputs": [],
   "source": []
  }
 ],
 "metadata": {
  "kernelspec": {
   "display_name": "Python 3",
   "language": "python",
   "name": "python3"
  },
  "language_info": {
   "codemirror_mode": {
    "name": "ipython",
    "version": 3
   },
   "file_extension": ".py",
   "mimetype": "text/x-python",
   "name": "python",
   "nbconvert_exporter": "python",
   "pygments_lexer": "ipython3",
   "version": "3.7.3"
  }
 },
 "nbformat": 4,
 "nbformat_minor": 2
}
