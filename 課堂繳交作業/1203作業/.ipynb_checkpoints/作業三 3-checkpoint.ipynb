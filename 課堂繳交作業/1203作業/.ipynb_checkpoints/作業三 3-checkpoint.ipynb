{
 "cells": [
  {
   "cell_type": "code",
   "execution_count": 2,
   "metadata": {},
   "outputs": [],
   "source": [
    "%matplotlib inline\n",
    "import numpy as np\n",
    "import pandas as pd \n",
    "import matplotlib.pyplot as plt\n",
    "import random"
   ]
  },
  {
   "cell_type": "code",
   "execution_count": 4,
   "metadata": {},
   "outputs": [
    {
     "name": "stdout",
     "output_type": "stream",
     "text": [
      "班級A:\n",
      " [[94 22 75 12 83]\n",
      " [35 33 95  4 97]\n",
      " [61  6 48  9 29]\n",
      " [41 99 30 13 80]\n",
      " [67 58 98 79 37]\n",
      " [15 39  1 41 18]\n",
      " [46  7  2 93 58]\n",
      " [64 80 68 81 80]\n",
      " [53 54 81 92  2]\n",
      " [ 6 99 20 93 64]]\n",
      "班級B:\n",
      " [[28 94  6 79 55]\n",
      " [79 94 74 57 45]\n",
      " [ 0 17 54 76 10]\n",
      " [22 11 52 22 44]\n",
      " [40 37 77 53 35]\n",
      " [46 65 77 86 18]\n",
      " [72 45 34 28 12]\n",
      " [94 34 67 99  7]\n",
      " [28 79 84 71 32]\n",
      " [67  4 93 81 13]]\n",
      "班級C:\n",
      " [[32 79 57 20 83]\n",
      " [ 2 38 70 32 41]\n",
      " [10 50 14 93 21]\n",
      " [96 76 36 95 68]\n",
      " [24 69 97 78  4]\n",
      " [74 30 57 56  0]\n",
      " [58 88 82 25 60]\n",
      " [16 85 27 48 45]\n",
      " [ 5 76 93 27 54]\n",
      " [ 3 17 32 34 94]]\n"
     ]
    }
   ],
   "source": [
    "Class_A = np.random.randint (100, size = (10,5))\n",
    "Class_B = np.random.randint (100, size = (10, 5))\n",
    "Class_C = np.random.randint (100, size = (10,5))\n",
    "\n",
    "print (\"班級A:\\n\", Class_A)\n",
    "print (\"班級B:\\n\", Class_B)\n",
    "print (\"班級C:\\n\", Class_C)"
   ]
  },
  {
   "cell_type": "code",
   "execution_count": 5,
   "metadata": {},
   "outputs": [],
   "source": [
    "weight = np.array([0.25, 0.25, 0.25, 0.15, 0.10])"
   ]
  },
  {
   "cell_type": "code",
   "execution_count": 6,
   "metadata": {},
   "outputs": [],
   "source": [
    "Class_A_sum = np.dot(Class_A, weight)\n",
    "Class_B_sum = np.dot(Class_B, weight)\n",
    "Class_C_sum = np.dot(Class_C, weight)"
   ]
  },
  {
   "cell_type": "code",
   "execution_count": 8,
   "metadata": {},
   "outputs": [
    {
     "name": "stdout",
     "output_type": "stream",
     "text": [
      "A班加權成績： [57.85 51.05 33.   52.45 71.3  21.7  33.5  73.15 61.   51.6 ]\n",
      "B班加權成績： [49.35 74.8  30.15 28.95 49.95 61.7  43.15 64.3  61.6  54.45]\n",
      "C班加權成績： [53.3  36.4  34.55 73.05 59.6  48.65 66.75 43.7  52.95 27.5 ]\n"
     ]
    }
   ],
   "source": [
    "print (\"A班加權成績：\", Class_A_sum)\n",
    "print (\"B班加權成績：\", Class_B_sum)\n",
    "print (\"C班加權成績：\", Class_C_sum)"
   ]
  },
  {
   "cell_type": "code",
   "execution_count": null,
   "metadata": {},
   "outputs": [],
   "source": []
  }
 ],
 "metadata": {
  "kernelspec": {
   "display_name": "Python 3",
   "language": "python",
   "name": "python3"
  },
  "language_info": {
   "codemirror_mode": {
    "name": "ipython",
    "version": 3
   },
   "file_extension": ".py",
   "mimetype": "text/x-python",
   "name": "python",
   "nbconvert_exporter": "python",
   "pygments_lexer": "ipython3",
   "version": "3.7.3"
  }
 },
 "nbformat": 4,
 "nbformat_minor": 2
}
