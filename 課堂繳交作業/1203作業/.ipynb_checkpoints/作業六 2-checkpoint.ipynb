{
 "cells": [
  {
   "cell_type": "code",
   "execution_count": 1,
   "metadata": {},
   "outputs": [
    {
     "name": "stdout",
     "output_type": "stream",
     "text": [
      "Populating the interactive namespace from numpy and matplotlib\n"
     ]
    }
   ],
   "source": [
    "%pylab inline"
   ]
  },
  {
   "cell_type": "code",
   "execution_count": 2,
   "metadata": {},
   "outputs": [
    {
     "name": "stdout",
     "output_type": "stream",
     "text": [
      "猜1~100間的一個數字11\n",
      "再猜大一點的數字\n",
      "猜1~100間的一個數字50\n",
      "再猜小一點的數字\n",
      "猜1~100間的一個數字45\n",
      "再猜小一點的數字\n",
      "猜1~100間的一個數字42\n",
      "再猜小一點的數字\n",
      "猜1~100間的一個數字30\n",
      "再猜大一點的數字\n",
      "猜1~100間的一個數字35\n",
      "再猜大一點的數字\n",
      "猜1~100間的一個數字38\n",
      "答對了\n"
     ]
    }
   ],
   "source": [
    "k = randint(1, 100)\n",
    "a = 0\n",
    "while a!=k:\n",
    "    a = int(input(\"猜1~100間的一個數字\"))\n",
    "    if (a<k):\n",
    "        print (\"再猜大一點的數字\")\n",
    "    elif(a>k):\n",
    "        print (\"再猜小一點的數字\")\n",
    "    else:\n",
    "        print(\"答對了\")"
   ]
  },
  {
   "cell_type": "code",
   "execution_count": null,
   "metadata": {},
   "outputs": [],
   "source": []
  }
 ],
 "metadata": {
  "kernelspec": {
   "display_name": "Python 3",
   "language": "python",
   "name": "python3"
  },
  "language_info": {
   "codemirror_mode": {
    "name": "ipython",
    "version": 3
   },
   "file_extension": ".py",
   "mimetype": "text/x-python",
   "name": "python",
   "nbconvert_exporter": "python",
   "pygments_lexer": "ipython3",
   "version": "3.7.3"
  }
 },
 "nbformat": 4,
 "nbformat_minor": 2
}
