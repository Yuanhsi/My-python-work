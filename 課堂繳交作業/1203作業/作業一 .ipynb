{
 "cells": [
  {
   "cell_type": "code",
   "execution_count": 17,
   "metadata": {},
   "outputs": [],
   "source": [
    "%matplotlib inline\n",
    "import numpy as np\n",
    "import pandas as pd\n",
    "import matplotlib.pyplot as plt"
   ]
  },
  {
   "cell_type": "code",
   "execution_count": 18,
   "metadata": {},
   "outputs": [],
   "source": [
    "from numpy.random import randint"
   ]
  },
  {
   "cell_type": "code",
   "execution_count": 19,
   "metadata": {},
   "outputs": [],
   "source": [
    "words = '''\n",
    "我們\n",
    "習慣\n",
    "悲傷\n",
    "月色\n",
    "沉澱\n",
    "靜默\n",
    "藍色\n",
    "晚秋\n",
    "枯葉\n",
    "緩緩\n",
    "墜下\n",
    "不捨\n",
    "遲暮\n",
    "晶瑩\n",
    "淚\n",
    "燒灼\n",
    "鮮明\n",
    "離別\n",
    "遺忘\n",
    "需要\n",
    "酒色\n",
    "琥珀\n",
    "覺悟\n",
    "有傷\n",
    "揣測\n",
    "迸落\n",
    "淚滴\n",
    "懂的人\n",
    "知道\n",
    "傷痕\n",
    "顏色'''"
   ]
  },
  {
   "cell_type": "code",
   "execution_count": 20,
   "metadata": {},
   "outputs": [],
   "source": [
    "phrase = words.split(\"\\n\")"
   ]
  },
  {
   "cell_type": "code",
   "execution_count": 21,
   "metadata": {},
   "outputs": [],
   "source": [
    "from numpy.random import sample, choice"
   ]
  },
  {
   "cell_type": "code",
   "execution_count": null,
   "metadata": {},
   "outputs": [],
   "source": []
  },
  {
   "cell_type": "code",
   "execution_count": 22,
   "metadata": {},
   "outputs": [
    {
     "name": "stdout",
     "output_type": "stream",
     "text": [
      "不捨 藍色 \n",
      "藍色 靜默 墜下\n",
      "燒灼 離別 揣測 淚 有傷\n",
      "靜默 晶瑩 覺悟\n",
      "需要 顏色 墜下 離別 顏色\n",
      "鮮明 顏色 淚 晚秋 淚\n"
     ]
    }
   ],
   "source": [
    "n = randint (3, 7)\n",
    "for i in range (n):\n",
    "    k = randint (3, 6)\n",
    "    egg = choice(phrase, k)\n",
    "    ham = ' '.join(egg)\n",
    "    print (ham)"
   ]
  },
  {
   "cell_type": "code",
   "execution_count": null,
   "metadata": {},
   "outputs": [],
   "source": []
  }
 ],
 "metadata": {
  "kernelspec": {
   "display_name": "Python 3",
   "language": "python",
   "name": "python3"
  },
  "language_info": {
   "codemirror_mode": {
    "name": "ipython",
    "version": 3
   },
   "file_extension": ".py",
   "mimetype": "text/x-python",
   "name": "python",
   "nbconvert_exporter": "python",
   "pygments_lexer": "ipython3",
   "version": "3.7.3"
  }
 },
 "nbformat": 4,
 "nbformat_minor": 2
}
