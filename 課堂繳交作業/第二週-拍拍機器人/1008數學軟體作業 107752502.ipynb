{
 "cells": [
  {
   "cell_type": "code",
   "execution_count": 2,
   "metadata": {},
   "outputs": [],
   "source": [
    "%matplotlib inline\n",
    "\n",
    "import numpy as np\n",
    "import matplotlib.pyplot as plt\n",
    "import pandas as pd"
   ]
  },
  {
   "cell_type": "markdown",
   "metadata": {},
   "source": [
    "# 作業一 拒絕機器人\n"
   ]
  },
  {
   "cell_type": "code",
   "execution_count": 3,
   "metadata": {},
   "outputs": [],
   "source": [
    "from numpy.random import choice"
   ]
  },
  {
   "cell_type": "code",
   "execution_count": 4,
   "metadata": {},
   "outputs": [],
   "source": [
    "import random"
   ]
  },
  {
   "cell_type": "code",
   "execution_count": 5,
   "metadata": {},
   "outputs": [],
   "source": [
    "words_1 = [\"我爸\", \"我媽\", \"我哥\", \"我姐\", \"我同學\", \"我表哥\"]"
   ]
  },
  {
   "cell_type": "code",
   "execution_count": 6,
   "metadata": {},
   "outputs": [],
   "source": [
    "words_2= [\"答應\", \"應該\", \"想要\", \"需要\", \"要去\", \"那天\"]"
   ]
  },
  {
   "cell_type": "code",
   "execution_count": 7,
   "metadata": {},
   "outputs": [],
   "source": [
    "words_3 = [\"吃晚餐\", \"家庭聚餐\", \"家庭旅遊\", \"看電影\", \"打工\"]"
   ]
  },
  {
   "cell_type": "code",
   "execution_count": null,
   "metadata": {},
   "outputs": [],
   "source": []
  },
  {
   "cell_type": "code",
   "execution_count": 8,
   "metadata": {},
   "outputs": [
    {
     "name": "stdout",
     "output_type": "stream",
     "text": [
      "你找我？ \n",
      "我同學 剛好 需要 吃晚餐\n",
      "你找我？ \n",
      "我姐 剛好 需要 打工\n",
      "你找我？bye\n",
      "我同學 剛好 想要 家庭旅遊\n"
     ]
    }
   ],
   "source": [
    "msg = \"怎麼了嗎？\"\n",
    "while (msg !=\"bye\"):\n",
    "    msg = input (\"你找我？\")\n",
    "    if \"考試\" in msg:\n",
    "        print (\"我都沒念\")\n",
    "    else: \n",
    "        RFS = random.choice (words_1)\n",
    "        RFV = random.choice (words_2)\n",
    "        RFQ = random.choice (words_3)\n",
    "        print (RFS, \"剛好\", RFV, RFQ)"
   ]
  },
  {
   "cell_type": "markdown",
   "metadata": {},
   "source": [
    "# 作業二 托福考試：45秒要講幾個字"
   ]
  },
  {
   "cell_type": "code",
   "execution_count": 9,
   "metadata": {},
   "outputs": [],
   "source": [
    "%matplotlib inline\n",
    "import numpy as np\n",
    "import matplotlib.pyplot as plt\n",
    "import pandas as pd"
   ]
  },
  {
   "cell_type": "code",
   "execution_count": 11,
   "metadata": {},
   "outputs": [
    {
     "name": "stdout",
     "output_type": "stream",
     "text": [
      "幾秒鐘的說話時間？\n",
      " 34\n",
      "34 秒要講 102.0 個字\n"
     ]
    }
   ],
   "source": [
    "print (\"幾秒鐘的說話時間？\")\n",
    "egg = input (\" \")\n",
    "print (egg, \"秒要講\", float (egg) * 3, \"個字\")"
   ]
  },
  {
   "cell_type": "markdown",
   "metadata": {},
   "source": [
    "# 作業三 計算全班加權平均數\n"
   ]
  },
  {
   "cell_type": "code",
   "execution_count": 17,
   "metadata": {},
   "outputs": [],
   "source": [
    "%matplotlib inline\n",
    "import numpy as np\n",
    "import matplotlib.pyplot as plt\n",
    "from random import *"
   ]
  },
  {
   "cell_type": "code",
   "execution_count": 18,
   "metadata": {},
   "outputs": [],
   "source": [
    "A_grades = np.random.randint(100, size = (10, 5))\n",
    "B_grades = np.random.randint(100, size = (10, 5))\n",
    "C_grades = np.random.randint(100, size = (10, 5))"
   ]
  },
  {
   "cell_type": "code",
   "execution_count": 19,
   "metadata": {},
   "outputs": [],
   "source": [
    "weights = [0.25, 0.25, 0.25, 0.15, 0.10]"
   ]
  },
  {
   "cell_type": "code",
   "execution_count": 20,
   "metadata": {},
   "outputs": [
    {
     "name": "stdout",
     "output_type": "stream",
     "text": [
      "A班:\n",
      " [[90 83  0 45 90]\n",
      " [42 87 45 41 97]\n",
      " [ 4 52  7 82 58]\n",
      " [35 11 11 61 86]\n",
      " [57 67 73 65 60]\n",
      " [39 70 62 71 62]\n",
      " [90 32 96 31 75]\n",
      " [28 59 49 16 19]\n",
      " [44  6 75 43 40]\n",
      " [38 92 85 14 73]] \n",
      "\n",
      "B班:\n",
      " [[35 60 96 96 70]\n",
      " [43 98  3 66 20]\n",
      " [78  0 65  8 41]\n",
      " [ 7 92 33 17 10]\n",
      " [79 15 46 61 38]\n",
      " [92 33 51  8 68]\n",
      " [ 1 29 67 54 78]\n",
      " [68 33 45 89 57]\n",
      " [94 37 25 14 19]\n",
      " [56 51 64 68 20]] \n",
      "\n",
      "C班:\n",
      " [[83 35  1 87 81]\n",
      " [84 26  0 89 77]\n",
      " [65 72 97 24 29]\n",
      " [66 14 22 61 89]\n",
      " [35 60 94 79 64]\n",
      " [27 43 94 25  5]\n",
      " [54 27 17 15 56]\n",
      " [18 34 63 91 62]\n",
      " [18 28  4 82 44]\n",
      " [22 12  9 93  5]] \n",
      "\n"
     ]
    }
   ],
   "source": [
    "print (\"A班:\\n\", A_grades, \"\\n\")\n",
    "print (\"B班:\\n\", B_grades, \"\\n\")\n",
    "print (\"C班:\\n\", C_grades, \"\\n\")"
   ]
  },
  {
   "cell_type": "code",
   "execution_count": 21,
   "metadata": {},
   "outputs": [],
   "source": [
    "TA = np.dot(A_grades, weights)\n",
    "TB = np.dot(B_grades, weights)\n",
    "TC = np.dot(C_grades, weights)"
   ]
  },
  {
   "cell_type": "code",
   "execution_count": 24,
   "metadata": {},
   "outputs": [
    {
     "name": "stdout",
     "output_type": "stream",
     "text": [
      "A班分數:\n",
      " [59.   59.35 33.85 32.   65.   59.6  66.65 38.3  41.7  63.15] \n",
      "\n",
      "B班分數:\n",
      " [69.15 47.9  41.05 36.55 47.95 52.   40.15 55.55 43.   54.95] \n",
      "\n",
      "C班分數:\n",
      " [50.9  48.55 65.   43.55 65.5  45.25 32.35 48.6  29.2  25.2 ] \n",
      "\n"
     ]
    }
   ],
   "source": [
    "print (\"A班分數:\\n\", TA, \"\\n\")\n",
    "print (\"B班分數:\\n\", TB, \"\\n\")\n",
    "print (\"C班分數:\\n\", TC, \"\\n\")"
   ]
  },
  {
   "cell_type": "code",
   "execution_count": null,
   "metadata": {},
   "outputs": [],
   "source": []
  }
 ],
 "metadata": {
  "kernelspec": {
   "display_name": "Python 3",
   "language": "python",
   "name": "python3"
  },
  "language_info": {
   "codemirror_mode": {
    "name": "ipython",
    "version": 3
   },
   "file_extension": ".py",
   "mimetype": "text/x-python",
   "name": "python",
   "nbconvert_exporter": "python",
   "pygments_lexer": "ipython3",
   "version": "3.7.3"
  }
 },
 "nbformat": 4,
 "nbformat_minor": 2
}
