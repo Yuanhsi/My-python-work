{
 "cells": [
  {
   "cell_type": "markdown",
   "metadata": {},
   "source": [
    "# 預測一下你就業後的收入滿意度吧"
   ]
  },
  {
   "cell_type": "markdown",
   "metadata": {},
   "source": [
    "## 資料來源：政府資料開放平台"
   ]
  },
  {
   "cell_type": "code",
   "execution_count": 21,
   "metadata": {},
   "outputs": [],
   "source": [
    "%matplotlib inline\n",
    "import numpy as np\n",
    "import matplotlib.pyplot as plt\n",
    "import pandas as pd\n",
    "from ipywidgets import interact"
   ]
  },
  {
   "cell_type": "code",
   "execution_count": 12,
   "metadata": {},
   "outputs": [],
   "source": [
    "df = pd.read_csv('https://apiservice.mol.gov.tw/OdService/download/A17000000J-020078-LPO')"
   ]
  },
  {
   "cell_type": "code",
   "execution_count": 13,
   "metadata": {},
   "outputs": [],
   "source": [
    "dfm = df_sort[df_sort.統計項目別=='每月收入']"
   ]
  },
  {
   "cell_type": "code",
   "execution_count": 17,
   "metadata": {},
   "outputs": [
    {
     "name": "stderr",
     "output_type": "stream",
     "text": [
      "/Applications/anaconda3/lib/python3.7/site-packages/ipykernel_launcher.py:1: SettingWithCopyWarning: \n",
      "A value is trying to be set on a copy of a slice from a DataFrame.\n",
      "Try using .loc[row_indexer,col_indexer] = value instead\n",
      "\n",
      "See the caveats in the documentation: http://pandas.pydata.org/pandas-docs/stable/indexing.html#indexing-view-versus-copy\n",
      "  \"\"\"Entry point for launching an IPython kernel.\n"
     ]
    },
    {
     "data": {
      "text/html": [
       "<div>\n",
       "<style scoped>\n",
       "    .dataframe tbody tr th:only-of-type {\n",
       "        vertical-align: middle;\n",
       "    }\n",
       "\n",
       "    .dataframe tbody tr th {\n",
       "        vertical-align: top;\n",
       "    }\n",
       "\n",
       "    .dataframe thead th {\n",
       "        text-align: right;\n",
       "    }\n",
       "</style>\n",
       "<table border=\"1\" class=\"dataframe\">\n",
       "  <thead>\n",
       "    <tr style=\"text-align: right;\">\n",
       "      <th></th>\n",
       "      <th>統計項目別</th>\n",
       "      <th>細項</th>\n",
       "      <th>樣本數（人）</th>\n",
       "      <th>很滿意（%）</th>\n",
       "      <th>滿意（%）</th>\n",
       "      <th>普通（%）</th>\n",
       "      <th>不滿意（%）</th>\n",
       "      <th>很不滿意（%）</th>\n",
       "      <th>滿意與很滿意加總</th>\n",
       "    </tr>\n",
       "  </thead>\n",
       "  <tbody>\n",
       "    <tr>\n",
       "      <th>22</th>\n",
       "      <td>每月收入</td>\n",
       "      <td>10萬元以上</td>\n",
       "      <td>62</td>\n",
       "      <td>26.6</td>\n",
       "      <td>57.2</td>\n",
       "      <td>16.2</td>\n",
       "      <td>-</td>\n",
       "      <td>-</td>\n",
       "      <td>83.8</td>\n",
       "    </tr>\n",
       "    <tr>\n",
       "      <th>21</th>\n",
       "      <td>每月收入</td>\n",
       "      <td>8萬-未滿10萬元</td>\n",
       "      <td>58</td>\n",
       "      <td>25.4</td>\n",
       "      <td>55.6</td>\n",
       "      <td>16.8</td>\n",
       "      <td>2.1</td>\n",
       "      <td>-</td>\n",
       "      <td>81.0</td>\n",
       "    </tr>\n",
       "    <tr>\n",
       "      <th>20</th>\n",
       "      <td>每月收入</td>\n",
       "      <td>6萬-未滿8萬元</td>\n",
       "      <td>229</td>\n",
       "      <td>16.5</td>\n",
       "      <td>57.7</td>\n",
       "      <td>22.0</td>\n",
       "      <td>3.6</td>\n",
       "      <td>0.1</td>\n",
       "      <td>74.2</td>\n",
       "    </tr>\n",
       "    <tr>\n",
       "      <th>15</th>\n",
       "      <td>每月收入</td>\n",
       "      <td>19,047元-未滿2萬元</td>\n",
       "      <td>164</td>\n",
       "      <td>16.7</td>\n",
       "      <td>54.5</td>\n",
       "      <td>27.5</td>\n",
       "      <td>1.3</td>\n",
       "      <td>-</td>\n",
       "      <td>71.2</td>\n",
       "    </tr>\n",
       "    <tr>\n",
       "      <th>19</th>\n",
       "      <td>每月收入</td>\n",
       "      <td>4萬-未滿6萬元</td>\n",
       "      <td>1273</td>\n",
       "      <td>10.3</td>\n",
       "      <td>59.0</td>\n",
       "      <td>27.8</td>\n",
       "      <td>2.5</td>\n",
       "      <td>0.5</td>\n",
       "      <td>69.3</td>\n",
       "    </tr>\n",
       "    <tr>\n",
       "      <th>14</th>\n",
       "      <td>每月收入</td>\n",
       "      <td>未滿19,047元</td>\n",
       "      <td>103</td>\n",
       "      <td>19.7</td>\n",
       "      <td>47.5</td>\n",
       "      <td>28.4</td>\n",
       "      <td>4.3</td>\n",
       "      <td>-</td>\n",
       "      <td>67.2</td>\n",
       "    </tr>\n",
       "    <tr>\n",
       "      <th>18</th>\n",
       "      <td>每月收入</td>\n",
       "      <td>3萬-未滿4萬元</td>\n",
       "      <td>1098</td>\n",
       "      <td>10.2</td>\n",
       "      <td>56.3</td>\n",
       "      <td>29.3</td>\n",
       "      <td>3.7</td>\n",
       "      <td>0.4</td>\n",
       "      <td>66.5</td>\n",
       "    </tr>\n",
       "    <tr>\n",
       "      <th>17</th>\n",
       "      <td>每月收入</td>\n",
       "      <td>2.5萬-未滿3萬元</td>\n",
       "      <td>644</td>\n",
       "      <td>9.4</td>\n",
       "      <td>54.8</td>\n",
       "      <td>32.2</td>\n",
       "      <td>2.8</td>\n",
       "      <td>0.8</td>\n",
       "      <td>64.2</td>\n",
       "    </tr>\n",
       "    <tr>\n",
       "      <th>16</th>\n",
       "      <td>每月收入</td>\n",
       "      <td>2萬-未滿2.5萬元</td>\n",
       "      <td>451</td>\n",
       "      <td>16.2</td>\n",
       "      <td>47.5</td>\n",
       "      <td>33.4</td>\n",
       "      <td>2.5</td>\n",
       "      <td>0.4</td>\n",
       "      <td>63.7</td>\n",
       "    </tr>\n",
       "  </tbody>\n",
       "</table>\n",
       "</div>"
      ],
      "text/plain": [
       "   統計項目別             細項  樣本數（人）  很滿意（%）  滿意（%）  普通（%） 不滿意（%） 很不滿意（%）  滿意與很滿意加總\n",
       "22  每月收入         10萬元以上      62    26.6   57.2   16.2      -       -      83.8\n",
       "21  每月收入      8萬-未滿10萬元      58    25.4   55.6   16.8    2.1       -      81.0\n",
       "20  每月收入       6萬-未滿8萬元     229    16.5   57.7   22.0    3.6     0.1      74.2\n",
       "15  每月收入  19,047元-未滿2萬元     164    16.7   54.5   27.5    1.3       -      71.2\n",
       "19  每月收入       4萬-未滿6萬元    1273    10.3   59.0   27.8    2.5     0.5      69.3\n",
       "14  每月收入      未滿19,047元     103    19.7   47.5   28.4    4.3       -      67.2\n",
       "18  每月收入       3萬-未滿4萬元    1098    10.2   56.3   29.3    3.7     0.4      66.5\n",
       "17  每月收入     2.5萬-未滿3萬元     644     9.4   54.8   32.2    2.8     0.8      64.2\n",
       "16  每月收入     2萬-未滿2.5萬元     451    16.2   47.5   33.4    2.5     0.4      63.7"
      ]
     },
     "execution_count": 17,
     "metadata": {},
     "output_type": "execute_result"
    }
   ],
   "source": [
    "dfm[\"滿意與很滿意加總\"]=dfm.iloc[:, 3:5].sum(axis=1)\n",
    "dfm_sort  = dfm.sort_values('滿意與很滿意加總', ascending = False)\n",
    "dfm_sort"
   ]
  },
  {
   "cell_type": "code",
   "execution_count": 43,
   "metadata": {},
   "outputs": [],
   "source": [
    "def f(x):\n",
    "    print(\"你滿意工作的機率是\"+ x + \"%\")"
   ]
  },
  {
   "cell_type": "code",
   "execution_count": 45,
   "metadata": {},
   "outputs": [
    {
     "data": {
      "application/vnd.jupyter.widget-view+json": {
       "model_id": "8543b9381bf84f48815d2ba5a50a4dc9",
       "version_major": 2,
       "version_minor": 0
      },
      "text/plain": [
       "interactive(children=(Dropdown(description='x', options={'10萬元以上': '83.8', '8萬-未滿10萬元': '81.0', '6萬-未滿8萬元': '7…"
      ]
     },
     "metadata": {},
     "output_type": "display_data"
    },
    {
     "data": {
      "text/plain": [
       "<function __main__.f(x)>"
      ]
     },
     "execution_count": 45,
     "metadata": {},
     "output_type": "execute_result"
    }
   ],
   "source": [
    "interact(f, x={\"10萬元以上\":\"83.8\",\"8萬-未滿10萬元\":\"81.0\",  \"6萬-未滿8萬元\": \"74.2\", \"4萬-未滿6萬元\":\"69.3\", \"3萬-未滿4萬元\": \"66.5\", \"2.5萬-未滿3萬元\": \"64.2\", \"2萬-未滿2.5萬元\":\"63.7\", \"19,047元-未滿2萬元\": \"71.2\"})"
   ]
  },
  {
   "cell_type": "code",
   "execution_count": null,
   "metadata": {},
   "outputs": [],
   "source": []
  }
 ],
 "metadata": {
  "kernelspec": {
   "display_name": "Python 3",
   "language": "python",
   "name": "python3"
  },
  "language_info": {
   "codemirror_mode": {
    "name": "ipython",
    "version": 3
   },
   "file_extension": ".py",
   "mimetype": "text/x-python",
   "name": "python",
   "nbconvert_exporter": "python",
   "pygments_lexer": "ipython3",
   "version": "3.7.3"
  }
 },
 "nbformat": 4,
 "nbformat_minor": 2
}
