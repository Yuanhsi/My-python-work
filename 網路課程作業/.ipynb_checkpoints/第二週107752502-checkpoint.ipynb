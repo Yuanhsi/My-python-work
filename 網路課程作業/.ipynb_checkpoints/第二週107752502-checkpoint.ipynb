{
 "cells": [
  {
   "cell_type": "code",
   "execution_count": 3,
   "metadata": {},
   "outputs": [
    {
     "name": "stdout",
     "output_type": "stream",
     "text": [
      ">>寫程式好好玩\n",
      "感恩炎龍！讚嘆炎龍\n",
      ">>作業好好玩\n",
      "感恩炎龍！讚嘆炎龍\n",
      ">>bye\n",
      "感恩炎龍！讚嘆炎龍\n"
     ]
    }
   ],
   "source": [
    "msg = \" \"\n",
    "while (msg != \"bye\"):\n",
    "    msg = input(\">>\")\n",
    "    print (\"感恩炎龍！讚嘆炎龍\")"
   ]
  },
  {
   "cell_type": "code",
   "execution_count": null,
   "metadata": {},
   "outputs": [],
   "source": []
  }
 ],
 "metadata": {
  "kernelspec": {
   "display_name": "Python 3",
   "language": "python",
   "name": "python3"
  }
 },
 "nbformat": 4,
 "nbformat_minor": 2
}
