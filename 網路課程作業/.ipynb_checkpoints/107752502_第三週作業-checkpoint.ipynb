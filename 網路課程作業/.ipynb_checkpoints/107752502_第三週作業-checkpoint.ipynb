{
 "cells": [
  {
   "cell_type": "code",
   "execution_count": 11,
   "metadata": {},
   "outputs": [],
   "source": [
    "%matplotlib inline\n",
    "import numpy as np\n",
    "import matplotlib.pyplot as plt\n",
    "from random import *"
   ]
  },
  {
   "cell_type": "code",
   "execution_count": 53,
   "metadata": {
    "scrolled": true
   },
   "outputs": [],
   "source": [
    "A_grades = np.random.randint(100, size = (10, 5))\n",
    "B_grades = np.random.randint(100, size = (10, 5))\n",
    "C_grades = np.random.randint(100, size = (10, 5))"
   ]
  },
  {
   "cell_type": "code",
   "execution_count": 54,
   "metadata": {},
   "outputs": [],
   "source": [
    "weights = [0.25, 0.25, 0.25, 0.15, 0.10]"
   ]
  },
  {
   "cell_type": "code",
   "execution_count": 56,
   "metadata": {},
   "outputs": [
    {
     "name": "stdout",
     "output_type": "stream",
     "text": [
      "A班:\n",
      " [[83 76 94 10 15]\n",
      " [27 90 88 98 53]\n",
      " [36  9 30 30 72]\n",
      " [17 32 77 26 26]\n",
      " [68 74 68 72 21]\n",
      " [37 44 51 81 95]\n",
      " [84 90 91  5 60]\n",
      " [29 61 60 54 90]\n",
      " [55 14 74 12 24]\n",
      " [92 50 69 35 58]] \n",
      "\n",
      "B班:\n",
      " [[83 85 57 96  1]\n",
      " [27 28 29 53 22]\n",
      " [65  8 30 61 98]\n",
      " [ 0 73 41  6 73]\n",
      " [ 2 94  5 64 95]\n",
      " [93 48 43 93 48]\n",
      " [20 92 64 42  0]\n",
      " [28  5  7  3 21]\n",
      " [ 8 65  3 16 30]\n",
      " [36 15 17 58 14]] \n",
      "\n",
      "C班:\n",
      " [[19 80 88 10 98]\n",
      " [ 3 58 36 49 47]\n",
      " [77 52 45 81 24]\n",
      " [17 84 51 11 74]\n",
      " [75 68  5 14 71]\n",
      " [44 71 97 45  2]\n",
      " [93 98 97 26 16]\n",
      " [59  1 18 49 87]\n",
      " [ 0 66 93 22 67]\n",
      " [42 61 57 66 61]] \n",
      "\n"
     ]
    }
   ],
   "source": [
    "print (\"A班:\\n\", A_grades, \"\\n\")\n",
    "print (\"B班:\\n\", B_grades, \"\\n\")\n",
    "print (\"C班:\\n\", C_grades, \"\\n\")"
   ]
  },
  {
   "cell_type": "code",
   "execution_count": 57,
   "metadata": {},
   "outputs": [],
   "source": [
    "TA = np.dot(A_grades, weights)\n",
    "TB = np.dot(B_grades, weights)\n",
    "TC = np.dot(C_grades, weights)"
   ]
  },
  {
   "cell_type": "code",
   "execution_count": 58,
   "metadata": {},
   "outputs": [
    {
     "name": "stdout",
     "output_type": "stream",
     "text": [
      "A班分數:\n",
      " [66.25 71.25 30.45 38.   65.4  54.65 73.   54.6  39.95 63.8 ] \n",
      "\n",
      "B班分數:\n",
      " [70.75 31.15 44.7  36.7  44.35 64.75 50.3  12.55 24.4  27.1 ] \n",
      "\n",
      "C班分數:\n",
      " [58.05 36.3  58.05 47.05 46.2  59.95 77.5  35.55 49.75 56.  ] \n",
      "\n"
     ]
    }
   ],
   "source": [
    "print (\"A班分數:\\n\", TA, \"\\n\")\n",
    "print (\"B班分數:\\n\", TB, \"\\n\")\n",
    "print (\"C班分數:\\n\", TC, \"\\n\")"
   ]
  },
  {
   "cell_type": "code",
   "execution_count": null,
   "metadata": {},
   "outputs": [],
   "source": []
  }
 ],
 "metadata": {
  "kernelspec": {
   "display_name": "Python 3",
   "language": "python",
   "name": "python3"
  },
  "language_info": {
   "codemirror_mode": {
    "name": "ipython",
    "version": 3
   },
   "file_extension": ".py",
   "mimetype": "text/x-python",
   "name": "python",
   "nbconvert_exporter": "python",
   "pygments_lexer": "ipython3",
   "version": "3.7.3"
  }
 },
 "nbformat": 4,
 "nbformat_minor": 2
}
