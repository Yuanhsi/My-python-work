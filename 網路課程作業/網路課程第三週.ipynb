{
 "cells": [
  {
   "cell_type": "code",
   "execution_count": 1,
   "metadata": {},
   "outputs": [],
   "source": [
    "from numpy import * \n",
    "# 星號的意思是全部都讀進來，但不推薦，因為會讀到很多會亂的東西"
   ]
  },
  {
   "cell_type": "code",
   "execution_count": 2,
   "metadata": {},
   "outputs": [],
   "source": [
    "from random import *"
   ]
  },
  {
   "cell_type": "code",
   "execution_count": 15,
   "metadata": {},
   "outputs": [
    {
     "data": {
      "text/plain": [
       "6"
      ]
     },
     "execution_count": 15,
     "metadata": {},
     "output_type": "execute_result"
    }
   ],
   "source": [
    "randint(1, 10)"
   ]
  },
  {
   "cell_type": "code",
   "execution_count": 5,
   "metadata": {},
   "outputs": [
    {
     "name": "stdout",
     "output_type": "stream",
     "text": [
      "3,9,9,3,7,5,4,10,10,3,9,5,1,10,5,6,3,7,2,10,4,4,3,7,3,3,2,7,9,8,10,1,2,1,3,2,5,8,9,7,6,10,8,10,10,10,1,8,3,3,"
     ]
    }
   ],
   "source": [
    "for i in range (50):\n",
    "    print (randint(1, 10), end=\",\")\n",
    "\n",
    "    #這種方式會讀到10，下一種不會"
   ]
  },
  {
   "cell_type": "code",
   "execution_count": 6,
   "metadata": {},
   "outputs": [],
   "source": [
    "from numpy.random import *"
   ]
  },
  {
   "cell_type": "code",
   "execution_count": 7,
   "metadata": {},
   "outputs": [
    {
     "data": {
      "text/plain": [
       "7"
      ]
     },
     "execution_count": 7,
     "metadata": {},
     "output_type": "execute_result"
    }
   ],
   "source": [
    "randint(1, 10)"
   ]
  },
  {
   "cell_type": "code",
   "execution_count": 8,
   "metadata": {},
   "outputs": [
    {
     "name": "stdout",
     "output_type": "stream",
     "text": [
      "5,4,5,5,9,9,8,4,3,6,3,5,4,8,3,2,7,3,2,3,6,2,9,1,2,8,6,9,6,4,2,5,9,4,4,4,4,8,2,4,7,6,8,9,3,3,5,7,2,7,"
     ]
    }
   ],
   "source": [
    "for i in range(50):\n",
    "    print (randint(1, 10), end=\",\")"
   ]
  },
  {
   "cell_type": "code",
   "execution_count": 16,
   "metadata": {},
   "outputs": [],
   "source": [
    "# 金額換算"
   ]
  },
  {
   "cell_type": "code",
   "execution_count": 17,
   "metadata": {},
   "outputs": [],
   "source": [
    "p = [1096.95, 596.95, 896.95]"
   ]
  },
  {
   "cell_type": "code",
   "execution_count": 18,
   "metadata": {},
   "outputs": [],
   "source": [
    "c = 30.1"
   ]
  },
  {
   "cell_type": "code",
   "execution_count": 19,
   "metadata": {},
   "outputs": [
    {
     "name": "stdout",
     "output_type": "stream",
     "text": [
      "33018.195\n",
      "17968.195000000003\n",
      "26998.195000000003\n"
     ]
    }
   ],
   "source": [
    "for k in p:\n",
    "    print(k*c) "
   ]
  },
  {
   "cell_type": "code",
   "execution_count": 20,
   "metadata": {},
   "outputs": [],
   "source": [
    "result = [ ]"
   ]
  },
  {
   "cell_type": "code",
   "execution_count": 21,
   "metadata": {},
   "outputs": [],
   "source": [
    "for k in p:\n",
    "    twd = k*c\n",
    "    result.append(twd)"
   ]
  },
  {
   "cell_type": "code",
   "execution_count": 22,
   "metadata": {},
   "outputs": [
    {
     "data": {
      "text/plain": [
       "[33018.195, 17968.195000000003, 26998.195000000003]"
      ]
     },
     "execution_count": 22,
     "metadata": {},
     "output_type": "execute_result"
    }
   ],
   "source": [
    "result"
   ]
  },
  {
   "cell_type": "code",
   "execution_count": 23,
   "metadata": {},
   "outputs": [],
   "source": [
    "%matplotlib inline\n",
    "import numpy as np\n",
    "import matplotlib.pyplot as plt"
   ]
  },
  {
   "cell_type": "code",
   "execution_count": 24,
   "metadata": {},
   "outputs": [],
   "source": [
    "p = [1096.95, 596.95, 896.95]"
   ]
  },
  {
   "cell_type": "code",
   "execution_count": 25,
   "metadata": {},
   "outputs": [],
   "source": [
    "c = 30.1"
   ]
  },
  {
   "cell_type": "code",
   "execution_count": 26,
   "metadata": {},
   "outputs": [],
   "source": [
    "prices = np.array(p)"
   ]
  },
  {
   "cell_type": "code",
   "execution_count": 27,
   "metadata": {},
   "outputs": [
    {
     "data": {
      "text/plain": [
       "array([1096.95,  596.95,  896.95])"
      ]
     },
     "execution_count": 27,
     "metadata": {},
     "output_type": "execute_result"
    }
   ],
   "source": [
    "prices"
   ]
  },
  {
   "cell_type": "code",
   "execution_count": 28,
   "metadata": {},
   "outputs": [
    {
     "name": "stdout",
     "output_type": "stream",
     "text": [
      "[1096.95  596.95  896.95]\n"
     ]
    }
   ],
   "source": [
    "print(prices)"
   ]
  },
  {
   "cell_type": "code",
   "execution_count": 29,
   "metadata": {},
   "outputs": [
    {
     "data": {
      "text/plain": [
       "array([33018.195, 17968.195, 26998.195])"
      ]
     },
     "execution_count": 29,
     "metadata": {},
     "output_type": "execute_result"
    }
   ],
   "source": [
    "prices * c"
   ]
  },
  {
   "cell_type": "code",
   "execution_count": 30,
   "metadata": {},
   "outputs": [],
   "source": [
    "#"
   ]
  },
  {
   "cell_type": "code",
   "execution_count": 31,
   "metadata": {},
   "outputs": [],
   "source": [
    "%matplotlib inline\n",
    "import numpy as np\n",
    "import matplotlib.pyplot as plt"
   ]
  },
  {
   "cell_type": "code",
   "execution_count": 33,
   "metadata": {},
   "outputs": [],
   "source": [
    "grades = np.array([85, 70, 82])"
   ]
  },
  {
   "cell_type": "code",
   "execution_count": 36,
   "metadata": {},
   "outputs": [],
   "source": [
    "weights = np.array([0.3,0.4, 0.3 ])"
   ]
  },
  {
   "cell_type": "code",
   "execution_count": 37,
   "metadata": {},
   "outputs": [],
   "source": [
    "g = grades * weights"
   ]
  },
  {
   "cell_type": "code",
   "execution_count": 38,
   "metadata": {},
   "outputs": [
    {
     "data": {
      "text/plain": [
       "array([25.5, 28. , 24.6])"
      ]
     },
     "execution_count": 38,
     "metadata": {},
     "output_type": "execute_result"
    }
   ],
   "source": [
    "g"
   ]
  },
  {
   "cell_type": "code",
   "execution_count": 39,
   "metadata": {},
   "outputs": [
    {
     "data": {
      "text/plain": [
       "78.1"
      ]
     },
     "execution_count": 39,
     "metadata": {},
     "output_type": "execute_result"
    }
   ],
   "source": [
    "g.sum( )"
   ]
  },
  {
   "cell_type": "code",
   "execution_count": 40,
   "metadata": {},
   "outputs": [
    {
     "data": {
      "text/plain": [
       "78.1"
      ]
     },
     "execution_count": 40,
     "metadata": {},
     "output_type": "execute_result"
    }
   ],
   "source": [
    "np.dot(grades, weights)"
   ]
  },
  {
   "cell_type": "code",
   "execution_count": 41,
   "metadata": {},
   "outputs": [],
   "source": [
    "%matplotlib inline\n",
    "import numpy as np\n",
    "import matplotlib.pyplot as plt"
   ]
  },
  {
   "cell_type": "code",
   "execution_count": 43,
   "metadata": {},
   "outputs": [],
   "source": [
    "grades = np.array( [[85, 70, 82],\n",
    "          [75, 92, 85],\n",
    "          [66, 64, 67],\n",
    "          [87, 94, 60]])"
   ]
  },
  {
   "cell_type": "code",
   "execution_count": 44,
   "metadata": {},
   "outputs": [
    {
     "data": {
      "text/plain": [
       "array([[85, 70, 82],\n",
       "       [75, 92, 85],\n",
       "       [66, 64, 67],\n",
       "       [87, 94, 60]])"
      ]
     },
     "execution_count": 44,
     "metadata": {},
     "output_type": "execute_result"
    }
   ],
   "source": [
    "grades"
   ]
  },
  {
   "cell_type": "code",
   "execution_count": 45,
   "metadata": {},
   "outputs": [],
   "source": [
    "weights = np.array([0.3, 0.4, 0.3])"
   ]
  },
  {
   "cell_type": "code",
   "execution_count": 46,
   "metadata": {},
   "outputs": [
    {
     "data": {
      "text/plain": [
       "array([78.1, 84.8, 65.5, 81.7])"
      ]
     },
     "execution_count": 46,
     "metadata": {},
     "output_type": "execute_result"
    }
   ],
   "source": [
    "np.dot(grades, weights)"
   ]
  },
  {
   "cell_type": "markdown",
   "metadata": {},
   "source": [
    "# array 的大變身"
   ]
  },
  {
   "cell_type": "code",
   "execution_count": 47,
   "metadata": {},
   "outputs": [],
   "source": [
    "# 讓多個數字排列成矩陣"
   ]
  },
  {
   "cell_type": "code",
   "execution_count": 92,
   "metadata": {},
   "outputs": [],
   "source": [
    "%matplotlib inline\n",
    "import numpy as np\n",
    "import matplotlib.pyplot as plt"
   ]
  },
  {
   "cell_type": "code",
   "execution_count": 49,
   "metadata": {},
   "outputs": [],
   "source": [
    "A = np.random.randn(100)"
   ]
  },
  {
   "cell_type": "code",
   "execution_count": 50,
   "metadata": {},
   "outputs": [
    {
     "data": {
      "text/plain": [
       "array([ 0.64958776,  0.3688392 , -0.68056223,  0.18322772,  0.3818907 ,\n",
       "        0.52595622, -0.14883826,  0.27854939,  1.40157043,  2.22309565,\n",
       "        0.23328333, -1.19753935, -0.09689743, -0.80997464, -0.70146259,\n",
       "       -0.12688713, -0.60944175,  0.86707824, -2.98975082,  0.04438116,\n",
       "       -0.47051839,  0.41201566,  0.9222316 , -0.21918954, -0.48776041,\n",
       "       -0.78203642, -0.37334643, -0.29659464,  0.68241156,  0.83613997,\n",
       "       -1.16080855, -0.0265941 ,  0.44658532,  0.9328429 , -0.63824406,\n",
       "        0.45075848, -0.69472005,  0.54648938, -0.24233525, -0.14187521,\n",
       "        0.35890156, -0.12015346, -1.55464747, -0.0641871 ,  0.4638562 ,\n",
       "       -0.06075843, -0.71953203, -0.37316794, -0.68650638, -0.12061583,\n",
       "        1.36312533, -0.67274206, -1.62060646,  0.56359332, -0.55941833,\n",
       "        0.41860107,  0.98416194, -0.76486329,  0.7449405 ,  0.92279397,\n",
       "        0.13685721,  1.84395927,  0.45875763,  0.71552166, -0.52637239,\n",
       "        0.4637925 ,  1.32263895,  0.11782272, -0.9941408 ,  0.37834445,\n",
       "       -0.39183818,  0.09535331,  1.93646475,  0.11791136,  0.78136338,\n",
       "       -0.92830691, -1.20303721,  0.31009817,  0.44872248,  0.51606722,\n",
       "       -0.01420889, -1.79713049, -0.21706505, -0.52293445, -0.71320369,\n",
       "        1.0308955 ,  1.34327062,  0.49212927, -0.56052796, -0.33445821,\n",
       "        0.40721243, -0.39685871,  0.43322386,  1.30606221,  0.1078128 ,\n",
       "        0.35048908,  0.32837105,  0.10054707,  0.26096096,  1.01027937])"
      ]
     },
     "execution_count": 50,
     "metadata": {},
     "output_type": "execute_result"
    }
   ],
   "source": [
    "A #平均值是0，標準差1"
   ]
  },
  {
   "cell_type": "code",
   "execution_count": 53,
   "metadata": {},
   "outputs": [],
   "source": [
    "A = 10*A +50"
   ]
  },
  {
   "cell_type": "code",
   "execution_count": 54,
   "metadata": {},
   "outputs": [
    {
     "data": {
      "text/plain": [
       "array([56.49587765, 53.68839197, 43.19437772, 51.83227721, 53.81890696,\n",
       "       55.25956223, 48.51161736, 52.78549386, 64.01570425, 72.23095654,\n",
       "       52.33283329, 38.02460649, 49.0310257 , 41.90025356, 42.9853741 ,\n",
       "       48.73112873, 43.90558247, 58.67078245, 20.10249184, 50.4438116 ,\n",
       "       45.2948161 , 54.1201566 , 59.22231597, 47.8081046 , 45.12239588,\n",
       "       42.17963577, 46.26653575, 47.03405363, 56.82411556, 58.36139974,\n",
       "       38.39191455, 49.73405898, 54.46585319, 59.32842896, 43.61755938,\n",
       "       54.50758477, 43.05279947, 55.46489383, 47.5766475 , 48.5812479 ,\n",
       "       53.58901562, 48.79846544, 34.4535253 , 49.35812896, 54.63856197,\n",
       "       49.39241567, 42.80467971, 46.26832056, 43.1349362 , 48.79384172,\n",
       "       63.63125326, 43.27257935, 33.79393538, 55.63593325, 44.40581671,\n",
       "       54.18601066, 59.84161944, 42.35136712, 57.44940502, 59.22793966,\n",
       "       51.36857211, 68.43959267, 54.58757628, 57.15521662, 44.73627613,\n",
       "       54.63792504, 63.22638951, 51.17822717, 40.05859205, 53.78344455,\n",
       "       46.08161823, 50.95353308, 69.36464748, 51.17911358, 57.81363379,\n",
       "       40.71693093, 37.9696279 , 53.10098167, 54.48722479, 55.16067222,\n",
       "       49.85791108, 32.02869505, 47.82934948, 44.77065553, 42.86796309,\n",
       "       60.30895503, 63.43270624, 54.92129268, 44.39472037, 46.65541788,\n",
       "       54.07212426, 46.03141293, 54.33223857, 63.06062208, 51.07812797,\n",
       "       53.50489083, 53.28371052, 51.00547074, 52.6096096 , 60.10279368])"
      ]
     },
     "execution_count": 54,
     "metadata": {},
     "output_type": "execute_result"
    }
   ],
   "source": [
    "A"
   ]
  },
  {
   "cell_type": "code",
   "execution_count": 55,
   "metadata": {},
   "outputs": [
    {
     "data": {
      "text/plain": [
       "(100,)"
      ]
     },
     "execution_count": 55,
     "metadata": {},
     "output_type": "execute_result"
    }
   ],
   "source": [
    "A. shape"
   ]
  },
  {
   "cell_type": "code",
   "execution_count": 56,
   "metadata": {},
   "outputs": [],
   "source": [
    "A.shape = (5, 20) #五列每個20個值"
   ]
  },
  {
   "cell_type": "code",
   "execution_count": 57,
   "metadata": {},
   "outputs": [
    {
     "data": {
      "text/plain": [
       "array([[56.49587765, 53.68839197, 43.19437772, 51.83227721, 53.81890696,\n",
       "        55.25956223, 48.51161736, 52.78549386, 64.01570425, 72.23095654,\n",
       "        52.33283329, 38.02460649, 49.0310257 , 41.90025356, 42.9853741 ,\n",
       "        48.73112873, 43.90558247, 58.67078245, 20.10249184, 50.4438116 ],\n",
       "       [45.2948161 , 54.1201566 , 59.22231597, 47.8081046 , 45.12239588,\n",
       "        42.17963577, 46.26653575, 47.03405363, 56.82411556, 58.36139974,\n",
       "        38.39191455, 49.73405898, 54.46585319, 59.32842896, 43.61755938,\n",
       "        54.50758477, 43.05279947, 55.46489383, 47.5766475 , 48.5812479 ],\n",
       "       [53.58901562, 48.79846544, 34.4535253 , 49.35812896, 54.63856197,\n",
       "        49.39241567, 42.80467971, 46.26832056, 43.1349362 , 48.79384172,\n",
       "        63.63125326, 43.27257935, 33.79393538, 55.63593325, 44.40581671,\n",
       "        54.18601066, 59.84161944, 42.35136712, 57.44940502, 59.22793966],\n",
       "       [51.36857211, 68.43959267, 54.58757628, 57.15521662, 44.73627613,\n",
       "        54.63792504, 63.22638951, 51.17822717, 40.05859205, 53.78344455,\n",
       "        46.08161823, 50.95353308, 69.36464748, 51.17911358, 57.81363379,\n",
       "        40.71693093, 37.9696279 , 53.10098167, 54.48722479, 55.16067222],\n",
       "       [49.85791108, 32.02869505, 47.82934948, 44.77065553, 42.86796309,\n",
       "        60.30895503, 63.43270624, 54.92129268, 44.39472037, 46.65541788,\n",
       "        54.07212426, 46.03141293, 54.33223857, 63.06062208, 51.07812797,\n",
       "        53.50489083, 53.28371052, 51.00547074, 52.6096096 , 60.10279368]])"
      ]
     },
     "execution_count": 57,
     "metadata": {},
     "output_type": "execute_result"
    }
   ],
   "source": [
    "A"
   ]
  },
  {
   "cell_type": "code",
   "execution_count": 62,
   "metadata": {},
   "outputs": [],
   "source": [
    "A = A.reshape(10,10) #10列的10行"
   ]
  },
  {
   "cell_type": "code",
   "execution_count": 63,
   "metadata": {},
   "outputs": [
    {
     "data": {
      "text/plain": [
       "array([[56.49587765, 53.68839197, 43.19437772, 51.83227721, 53.81890696,\n",
       "        55.25956223, 48.51161736, 52.78549386, 64.01570425, 72.23095654],\n",
       "       [52.33283329, 38.02460649, 49.0310257 , 41.90025356, 42.9853741 ,\n",
       "        48.73112873, 43.90558247, 58.67078245, 20.10249184, 50.4438116 ],\n",
       "       [45.2948161 , 54.1201566 , 59.22231597, 47.8081046 , 45.12239588,\n",
       "        42.17963577, 46.26653575, 47.03405363, 56.82411556, 58.36139974],\n",
       "       [38.39191455, 49.73405898, 54.46585319, 59.32842896, 43.61755938,\n",
       "        54.50758477, 43.05279947, 55.46489383, 47.5766475 , 48.5812479 ],\n",
       "       [53.58901562, 48.79846544, 34.4535253 , 49.35812896, 54.63856197,\n",
       "        49.39241567, 42.80467971, 46.26832056, 43.1349362 , 48.79384172],\n",
       "       [63.63125326, 43.27257935, 33.79393538, 55.63593325, 44.40581671,\n",
       "        54.18601066, 59.84161944, 42.35136712, 57.44940502, 59.22793966],\n",
       "       [51.36857211, 68.43959267, 54.58757628, 57.15521662, 44.73627613,\n",
       "        54.63792504, 63.22638951, 51.17822717, 40.05859205, 53.78344455],\n",
       "       [46.08161823, 50.95353308, 69.36464748, 51.17911358, 57.81363379,\n",
       "        40.71693093, 37.9696279 , 53.10098167, 54.48722479, 55.16067222],\n",
       "       [49.85791108, 32.02869505, 47.82934948, 44.77065553, 42.86796309,\n",
       "        60.30895503, 63.43270624, 54.92129268, 44.39472037, 46.65541788],\n",
       "       [54.07212426, 46.03141293, 54.33223857, 63.06062208, 51.07812797,\n",
       "        53.50489083, 53.28371052, 51.00547074, 52.6096096 , 60.10279368]])"
      ]
     },
     "execution_count": 63,
     "metadata": {},
     "output_type": "execute_result"
    }
   ],
   "source": [
    "A"
   ]
  },
  {
   "cell_type": "code",
   "execution_count": 65,
   "metadata": {},
   "outputs": [],
   "source": [
    "xy = [[x, y] for x in range (10) for y in range(5)]"
   ]
  },
  {
   "cell_type": "code",
   "execution_count": 66,
   "metadata": {},
   "outputs": [],
   "source": [
    "xy = np.array(xy)"
   ]
  },
  {
   "cell_type": "code",
   "execution_count": 67,
   "metadata": {},
   "outputs": [
    {
     "data": {
      "text/plain": [
       "array([[0, 0],\n",
       "       [0, 1],\n",
       "       [0, 2],\n",
       "       [0, 3],\n",
       "       [0, 4],\n",
       "       [1, 0],\n",
       "       [1, 1],\n",
       "       [1, 2],\n",
       "       [1, 3],\n",
       "       [1, 4],\n",
       "       [2, 0],\n",
       "       [2, 1],\n",
       "       [2, 2],\n",
       "       [2, 3],\n",
       "       [2, 4],\n",
       "       [3, 0],\n",
       "       [3, 1],\n",
       "       [3, 2],\n",
       "       [3, 3],\n",
       "       [3, 4],\n",
       "       [4, 0],\n",
       "       [4, 1],\n",
       "       [4, 2],\n",
       "       [4, 3],\n",
       "       [4, 4],\n",
       "       [5, 0],\n",
       "       [5, 1],\n",
       "       [5, 2],\n",
       "       [5, 3],\n",
       "       [5, 4],\n",
       "       [6, 0],\n",
       "       [6, 1],\n",
       "       [6, 2],\n",
       "       [6, 3],\n",
       "       [6, 4],\n",
       "       [7, 0],\n",
       "       [7, 1],\n",
       "       [7, 2],\n",
       "       [7, 3],\n",
       "       [7, 4],\n",
       "       [8, 0],\n",
       "       [8, 1],\n",
       "       [8, 2],\n",
       "       [8, 3],\n",
       "       [8, 4],\n",
       "       [9, 0],\n",
       "       [9, 1],\n",
       "       [9, 2],\n",
       "       [9, 3],\n",
       "       [9, 4]])"
      ]
     },
     "execution_count": 67,
     "metadata": {},
     "output_type": "execute_result"
    }
   ],
   "source": [
    "xy"
   ]
  },
  {
   "cell_type": "code",
   "execution_count": 68,
   "metadata": {},
   "outputs": [
    {
     "data": {
      "text/plain": [
       "array([0., 0., 0., 0., 0., 0., 0., 0., 0., 0.])"
      ]
     },
     "execution_count": 68,
     "metadata": {},
     "output_type": "execute_result"
    }
   ],
   "source": [
    "np.zeros(10)"
   ]
  },
  {
   "cell_type": "code",
   "execution_count": 70,
   "metadata": {},
   "outputs": [
    {
     "data": {
      "text/plain": [
       "array([[0., 0., 0., 0.],\n",
       "       [0., 0., 0., 0.],\n",
       "       [0., 0., 0., 0.]])"
      ]
     },
     "execution_count": 70,
     "metadata": {},
     "output_type": "execute_result"
    }
   ],
   "source": [
    "np.zeros((3,4))"
   ]
  },
  {
   "cell_type": "code",
   "execution_count": 72,
   "metadata": {},
   "outputs": [
    {
     "data": {
      "text/plain": [
       "array([[1., 0., 0., 0., 0.],\n",
       "       [0., 1., 0., 0., 0.],\n",
       "       [0., 0., 1., 0., 0.],\n",
       "       [0., 0., 0., 1., 0.],\n",
       "       [0., 0., 0., 0., 1.]])"
      ]
     },
     "execution_count": 72,
     "metadata": {},
     "output_type": "execute_result"
    }
   ],
   "source": [
    "np.eye(5) #向量導向"
   ]
  },
  {
   "cell_type": "code",
   "execution_count": 74,
   "metadata": {},
   "outputs": [],
   "source": [
    "y = np.random.rand(50)"
   ]
  },
  {
   "cell_type": "code",
   "execution_count": 75,
   "metadata": {},
   "outputs": [
    {
     "data": {
      "text/plain": [
       "array([0.11527835, 0.98399527, 0.50035865, 0.72507099, 0.08747413,\n",
       "       0.87835252, 0.69212113, 0.93022666, 0.36357344, 0.73477907,\n",
       "       0.68309698, 0.57784622, 0.81421543, 0.94624132, 0.24011508,\n",
       "       0.56952425, 0.56027061, 0.92795093, 0.60295812, 0.19871658,\n",
       "       0.11028199, 0.40143249, 0.38325717, 0.95799325, 0.38593366,\n",
       "       0.04691784, 0.85452748, 0.08093095, 0.50510145, 0.9732659 ,\n",
       "       0.73843708, 0.75531638, 0.37458112, 0.02699613, 0.27538194,\n",
       "       0.11156013, 0.75460237, 0.08245346, 0.77128987, 0.65409789,\n",
       "       0.94238902, 0.04061013, 0.75180387, 0.1189095 , 0.87074563,\n",
       "       0.50102519, 0.93541298, 0.10095764, 0.43973311, 0.32645324])"
      ]
     },
     "execution_count": 75,
     "metadata": {},
     "output_type": "execute_result"
    }
   ],
   "source": [
    "y"
   ]
  },
  {
   "cell_type": "code",
   "execution_count": 76,
   "metadata": {},
   "outputs": [
    {
     "data": {
      "text/plain": [
       "[<matplotlib.lines.Line2D at 0x119235828>]"
      ]
     },
     "execution_count": 76,
     "metadata": {},
     "output_type": "execute_result"
    },
    {
     "data": {
      "image/png": "[encoded data removed]",
      "text/plain": [
       "<Figure size 432x288 with 1 Axes>"
      ]
     },
     "metadata": {
      "needs_background": "light"
     },
     "output_type": "display_data"
    }
   ],
   "source": [
    "plt.plot(y)"
   ]
  },
  {
   "cell_type": "code",
   "execution_count": 77,
   "metadata": {},
   "outputs": [],
   "source": [
    "x = np.linspace(0,10,100) #從0到10取100個點"
   ]
  },
  {
   "cell_type": "code",
   "execution_count": 78,
   "metadata": {},
   "outputs": [
    {
     "data": {
      "text/plain": [
       "array([ 0.        ,  0.1010101 ,  0.2020202 ,  0.3030303 ,  0.4040404 ,\n",
       "        0.50505051,  0.60606061,  0.70707071,  0.80808081,  0.90909091,\n",
       "        1.01010101,  1.11111111,  1.21212121,  1.31313131,  1.41414141,\n",
       "        1.51515152,  1.61616162,  1.71717172,  1.81818182,  1.91919192,\n",
       "        2.02020202,  2.12121212,  2.22222222,  2.32323232,  2.42424242,\n",
       "        2.52525253,  2.62626263,  2.72727273,  2.82828283,  2.92929293,\n",
       "        3.03030303,  3.13131313,  3.23232323,  3.33333333,  3.43434343,\n",
       "        3.53535354,  3.63636364,  3.73737374,  3.83838384,  3.93939394,\n",
       "        4.04040404,  4.14141414,  4.24242424,  4.34343434,  4.44444444,\n",
       "        4.54545455,  4.64646465,  4.74747475,  4.84848485,  4.94949495,\n",
       "        5.05050505,  5.15151515,  5.25252525,  5.35353535,  5.45454545,\n",
       "        5.55555556,  5.65656566,  5.75757576,  5.85858586,  5.95959596,\n",
       "        6.06060606,  6.16161616,  6.26262626,  6.36363636,  6.46464646,\n",
       "        6.56565657,  6.66666667,  6.76767677,  6.86868687,  6.96969697,\n",
       "        7.07070707,  7.17171717,  7.27272727,  7.37373737,  7.47474747,\n",
       "        7.57575758,  7.67676768,  7.77777778,  7.87878788,  7.97979798,\n",
       "        8.08080808,  8.18181818,  8.28282828,  8.38383838,  8.48484848,\n",
       "        8.58585859,  8.68686869,  8.78787879,  8.88888889,  8.98989899,\n",
       "        9.09090909,  9.19191919,  9.29292929,  9.39393939,  9.49494949,\n",
       "        9.5959596 ,  9.6969697 ,  9.7979798 ,  9.8989899 , 10.        ])"
      ]
     },
     "execution_count": 78,
     "metadata": {},
     "output_type": "execute_result"
    }
   ],
   "source": [
    "x"
   ]
  },
  {
   "cell_type": "code",
   "execution_count": 80,
   "metadata": {},
   "outputs": [
    {
     "data": {
      "text/plain": [
       "[<matplotlib.lines.Line2D at 0x11756c080>]"
      ]
     },
     "execution_count": 80,
     "metadata": {},
     "output_type": "execute_result"
    },
    {
     "data": {
      "image/png": "[encoded data removed]",
      "text/plain": [
       "<Figure size 432x288 with 1 Axes>"
      ]
     },
     "metadata": {
      "needs_background": "light"
     },
     "output_type": "display_data"
    }
   ],
   "source": [
    "plt.plot(x, np.sin(x) + x)"
   ]
  },
  {
   "cell_type": "code",
   "execution_count": 82,
   "metadata": {},
   "outputs": [
    {
     "data": {
      "text/plain": [
       "[<matplotlib.lines.Line2D at 0x11776b358>]"
      ]
     },
     "execution_count": 82,
     "metadata": {},
     "output_type": "execute_result"
    },
    {
     "data": {
      "image/png": "[encoded data removed]",
      "text/plain": [
       "<Figure size 432x288 with 1 Axes>"
      ]
     },
     "metadata": {
      "needs_background": "light"
     },
     "output_type": "display_data"
    }
   ],
   "source": [
    "plt.plot(x, np.sin(x) + x)\n",
    "plt.plot(x, np.cos(x))"
   ]
  },
  {
   "cell_type": "markdown",
   "metadata": {},
   "source": [
    "# 很快篩選出想要的資料"
   ]
  },
  {
   "cell_type": "code",
   "execution_count": 83,
   "metadata": {},
   "outputs": [],
   "source": [
    "L = np.array([3, -2, 4, -6, 6, 999, -44, 34, -32, 8, -51])"
   ]
  },
  {
   "cell_type": "code",
   "execution_count": 85,
   "metadata": {},
   "outputs": [
    {
     "data": {
      "text/plain": [
       "array([False,  True, False,  True, False, False,  True, False,  True,\n",
       "       False,  True])"
      ]
     },
     "execution_count": 85,
     "metadata": {},
     "output_type": "execute_result"
    }
   ],
   "source": [
    "L<0"
   ]
  },
  {
   "cell_type": "code",
   "execution_count": 88,
   "metadata": {},
   "outputs": [
    {
     "data": {
      "text/plain": [
       "array([ 4, -6])"
      ]
     },
     "execution_count": 88,
     "metadata": {},
     "output_type": "execute_result"
    }
   ],
   "source": [
    "L[2:4]"
   ]
  },
  {
   "cell_type": "code",
   "execution_count": 89,
   "metadata": {},
   "outputs": [
    {
     "data": {
      "text/plain": [
       "array([  3,   4,   6, 999,  34,   8])"
      ]
     },
     "execution_count": 89,
     "metadata": {},
     "output_type": "execute_result"
    }
   ],
   "source": [
    "L[L>0]"
   ]
  },
  {
   "cell_type": "code",
   "execution_count": 94,
   "metadata": {},
   "outputs": [
    {
     "data": {
      "text/plain": [
       "[<matplotlib.lines.Line2D at 0x118364198>]"
      ]
     },
     "execution_count": 94,
     "metadata": {},
     "output_type": "execute_result"
    },
    {
     "data": {
      "image/png": "[encoded data removed]",
      "text/plain": [
       "<Figure size 432x288 with 1 Axes>"
      ]
     },
     "metadata": {
      "needs_background": "light"
     },
     "output_type": "display_data"
    }
   ],
   "source": [
    "x = np.linspace(-5, 5, 500)\n",
    "y = np.sinc(x)\n",
    "plt.plot(x, y)"
   ]
  },
  {
   "cell_type": "code",
   "execution_count": 97,
   "metadata": {},
   "outputs": [
    {
     "data": {
      "text/plain": [
       "[<matplotlib.lines.Line2D at 0x1183fbac8>]"
      ]
     },
     "execution_count": 97,
     "metadata": {},
     "output_type": "execute_result"
    },
    {
     "data": {
      "image/png": "[encoded data removed]",
      "text/plain": [
       "<Figure size 432x288 with 1 Axes>"
      ]
     },
     "metadata": {
      "needs_background": "light"
     },
     "output_type": "display_data"
    }
   ],
   "source": [
    "plt.plot(x, y)\n",
    "plt.plot(x[y>0], y[y>0], \"o\")"
   ]
  },
  {
   "cell_type": "code",
   "execution_count": null,
   "metadata": {},
   "outputs": [],
   "source": []
  }
 ],
 "metadata": {
  "kernelspec": {
   "display_name": "Python 3",
   "language": "python",
   "name": "python3"
  },
  "language_info": {
   "codemirror_mode": {
    "name": "ipython",
    "version": 3
   },
   "file_extension": ".py",
   "mimetype": "text/x-python",
   "name": "python",
   "nbconvert_exporter": "python",
   "pygments_lexer": "ipython3",
   "version": "3.7.3"
  }
 },
 "nbformat": 4,
 "nbformat_minor": 2
}
