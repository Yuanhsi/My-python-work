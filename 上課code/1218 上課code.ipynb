{
 "cells": [
  {
   "cell_type": "markdown",
   "metadata": {},
   "source": [
    "# 找一個好的文字編輯器\n",
    "\n",
    "* Visual Studio Code\n",
    "* VIM"
   ]
  },
  {
   "cell_type": "code",
   "execution_count": 1,
   "metadata": {},
   "outputs": [],
   "source": [
    "!mkdir eggs\n",
    "# 驚嘆號是指我在這打指令等於在終端機下指令"
   ]
  },
  {
   "cell_type": "code",
   "execution_count": 2,
   "metadata": {},
   "outputs": [
    {
     "name": "stdout",
     "output_type": "stream",
     "text": [
      "1002 第四週 上課code .ipynb\r\n",
      "1009 上課code 複習.ipynb\r\n",
      "1009 上課code.ipynb\r\n",
      "1016 上課code＿class, 存讀檔.ipynb\r\n",
      "1023上課code 基本數學計算.ipynb\r\n",
      "1030上課 pandas.ipynb\r\n",
      "1113 SciKitLearn.ipynb\r\n",
      "1119 機器學習概要.ipynb\r\n",
      "1127  維度縮減.ipynb\r\n",
      "1211 網頁爬蟲.ipynb\r\n",
      "1218 上課code.ipynb\r\n",
      "Pooh.jpg\r\n",
      "\u001b[31mchromedriver\u001b[m\u001b[m*\r\n",
      "\u001b[34meggs\u001b[m\u001b[m/\r\n",
      "mydic.csv\r\n",
      "mydic.pickle\r\n",
      "poem.py\r\n",
      "test.txt\r\n",
      "tkinter.ipynb\r\n",
      "第三週 上課code.ipynb\r\n"
     ]
    }
   ],
   "source": [
    "%ls"
   ]
  },
  {
   "cell_type": "code",
   "execution_count": 3,
   "metadata": {},
   "outputs": [
    {
     "name": "stdout",
     "output_type": "stream",
     "text": [
      "/Users/yuanhsiliao/Desktop/python/上課code/eggs\n"
     ]
    }
   ],
   "source": [
    "%cd eggs"
   ]
  },
  {
   "cell_type": "code",
   "execution_count": 18,
   "metadata": {},
   "outputs": [],
   "source": [
    "\n",
    "import numpy as np\n",
    "import pandas as pd\n",
    "import matplotlib.pyplot as plt\n",
    "from random import randint"
   ]
  },
  {
   "cell_type": "code",
   "execution_count": 12,
   "metadata": {},
   "outputs": [
    {
     "name": "stdout",
     "output_type": "stream",
     "text": [
      "57,38,30,18,67,98,32,88,9,92,1,11,83,86,91,37,55,29,43,84,15,88,6,92,33,12,14,96,100,8,78,45,83,3,73,85,77,1,20,27,80,23,17,7,46,4,75,77,86,28,4,4,4,58,13,3,17,13,39,82,51,45,35,3,96,9,11,28,78,83,38,40,59,35,97,74,84,43,10,49,35,81,31,82,6,96,22,72,91,81,61,75,22,6,27,42,66,28,94,82,"
     ]
    }
   ],
   "source": [
    "for i in range(100):\n",
    "    print(randint(1, 100), end = ',')"
   ]
  },
  {
   "cell_type": "code",
   "execution_count": 15,
   "metadata": {},
   "outputs": [
    {
     "name": "stdout",
     "output_type": "stream",
     "text": [
      "99,27,18,21,72,35,96,2,68,11,71,98,7,74,90,33,43,92,4,65,77,36,29,83,91,64,53,71,46,50,84,50,40,30,94,11,52,96,3,64,7,54,32,43,53,27,65,26,15,41,48,29,3,86,94,81,90,77,5,94,91,79,30,66,87,63,80,90,76,13,27,63,77,67,29,91,63,13,33,3,73,10,79,86,81,44,22,57,86,56,55,83,8,44,89,33,79,84,45,32,"
     ]
    }
   ],
   "source": [
    "for i in range(100):\n",
    "    print(np.random.randint(1, 100), end = \",\")\n",
    "    # 不會取到100"
   ]
  },
  {
   "cell_type": "code",
   "execution_count": 16,
   "metadata": {},
   "outputs": [
    {
     "name": "stdout",
     "output_type": "stream",
     "text": [
      "你今天的幸運數字是41!\n"
     ]
    }
   ],
   "source": [
    "n = randint(1, 100)\n",
    "print(f\"你今天的幸運數字是{n}!\")"
   ]
  },
  {
   "cell_type": "code",
   "execution_count": 22,
   "metadata": {},
   "outputs": [
    {
     "name": "stdout",
     "output_type": "stream",
     "text": [
      "File `spam.py` exists. Overwrite (y/[N])?  y\n",
      "The following commands were written to file `spam.py`:\n",
      "import numpy as np\n",
      "import pandas as pd\n",
      "import matplotlib.pyplot as plt\n",
      "from random import randint\n",
      "n = randint(1, 100)\n",
      "print(f\"你今天的幸運數字是{n}!\")\n"
     ]
    }
   ],
   "source": [
    "%save spam.py 18 16"
   ]
  },
  {
   "cell_type": "markdown",
   "metadata": {},
   "source": [
    "# Python 網頁\n",
    "* Django (大型專案)\n",
    "* Flask (小巧)"
   ]
  },
  {
   "cell_type": "markdown",
   "metadata": {},
   "source": [
    "## Streamlit"
   ]
  },
  {
   "cell_type": "code",
   "execution_count": 23,
   "metadata": {},
   "outputs": [
    {
     "name": "stdout",
     "output_type": "stream",
     "text": [
      "Collecting streamlit\n",
      "\u001b[?25l  Downloading https://files.pythonhosted.org/packages/37/e2/c92db0c7e99f33f2e06d7a7fbd5237dfbb3272ee4ecaedc8c064a6c305a8/streamlit-0.51.0-py2.py3-none-any.whl (6.3MB)\n",
      "\u001b[K     |████████████████████████████████| 6.3MB 702kB/s eta 0:00:01\n",
      "\u001b[?25hRequirement already satisfied: pillow>=6.2.0 in /Applications/anaconda3/lib/python3.7/site-packages (from streamlit) (6.2.1)\n",
      "Collecting enum-compat\n",
      "  Downloading https://files.pythonhosted.org/packages/55/ae/467bc4509246283bb59746e21a1a2f5a8aecbef56b1fa6eaca78cd438c8b/enum_compat-0.0.3-py3-none-any.whl\n",
      "Collecting blinker\n",
      "\u001b[?25l  Downloading https://files.pythonhosted.org/packages/1b/51/e2a9f3b757eb802f61dc1f2b09c8c99f6eb01cf06416c0671253536517b6/blinker-1.4.tar.gz (111kB)\n",
      "\u001b[K     |████████████████████████████████| 112kB 172kB/s eta 0:00:01\n",
      "\u001b[?25hCollecting base58\n",
      "  Downloading https://files.pythonhosted.org/packages/09/b2/21ac9591f055acc145afead895edeb73bbd69d95cf366fc5c2233f2434cb/base58-1.0.3-py3-none-any.whl\n",
      "Collecting toml\n",
      "  Downloading https://files.pythonhosted.org/packages/a2/12/ced7105d2de62fa7c8fb5fce92cc4ce66b57c95fb875e9318dba7f8c5db0/toml-0.10.0-py2.py3-none-any.whl\n",
      "Collecting astor\n",
      "  Downloading https://files.pythonhosted.org/packages/c3/88/97eef84f48fa04fbd6750e62dcceafba6c63c81b7ac1420856c8dcc0a3f9/astor-0.8.1-py2.py3-none-any.whl\n",
      "Collecting tzlocal\n",
      "  Downloading https://files.pythonhosted.org/packages/ef/99/53bd1ac9349262f59c1c421d8fcc2559ae8a5eeffed9202684756b648d33/tzlocal-2.0.0-py2.py3-none-any.whl\n",
      "Requirement already satisfied: click>=7.0 in /Applications/anaconda3/lib/python3.7/site-packages (from streamlit) (7.0)\n",
      "Requirement already satisfied: requests in /Applications/anaconda3/lib/python3.7/site-packages (from streamlit) (2.22.0)\n",
      "Requirement already satisfied: pandas>=0.21.0 in /Applications/anaconda3/lib/python3.7/site-packages (from streamlit) (0.25.3)\n",
      "Collecting watchdog\n",
      "\u001b[?25l  Downloading https://files.pythonhosted.org/packages/bb/e3/5a55d48a29300160779f0a0d2776d17c1b762a2039b36de528b093b87d5b/watchdog-0.9.0.tar.gz (85kB)\n",
      "\u001b[K     |████████████████████████████████| 92kB 449kB/s eta 0:00:011\n",
      "\u001b[?25hCollecting botocore\n",
      "\u001b[?25l  Downloading https://files.pythonhosted.org/packages/49/e0/a9a53656126a635120c0f7eaee3ff3b26a4a08596d10e7192fd91ce19e5c/botocore-1.13.41-py2.py3-none-any.whl (5.8MB)\n",
      "\u001b[K     |████████████████████████████████| 5.8MB 178kB/s eta 0:00:01\n",
      "\u001b[?25hRequirement already satisfied: future in /Applications/anaconda3/lib/python3.7/site-packages (from streamlit) (0.18.2)\n",
      "Collecting protobuf>=3.6.0\n",
      "\u001b[?25l  Downloading https://files.pythonhosted.org/packages/63/c3/c1929b176a62f2960fe8f9346bd7c3ed42dc2af7d61c0e9b21e36c68e2ce/protobuf-3.11.1-cp37-cp37m-macosx_10_9_intel.whl (1.4MB)\n",
      "\u001b[K     |████████████████████████████████| 1.4MB 639kB/s eta 0:00:01\n",
      "\u001b[?25hCollecting tornado<6.0,>=5.0\n",
      "\u001b[?25l  Downloading https://files.pythonhosted.org/packages/e6/78/6e7b5af12c12bdf38ca9bfe863fcaf53dc10430a312d0324e76c1e5ca426/tornado-5.1.1.tar.gz (516kB)\n",
      "\u001b[K     |████████████████████████████████| 522kB 611kB/s eta 0:00:01\n",
      "\u001b[?25hRequirement already satisfied: numpy in /Applications/anaconda3/lib/python3.7/site-packages (from streamlit) (1.17.4)\n",
      "Collecting boto3\n",
      "\u001b[?25l  Downloading https://files.pythonhosted.org/packages/39/8b/250778bc5fd4b9a91d7916f8729b346931be419052130548617139247ba6/boto3-1.10.41-py2.py3-none-any.whl (128kB)\n",
      "\u001b[K     |████████████████████████████████| 133kB 501kB/s eta 0:00:01\n",
      "\u001b[?25hCollecting altair>=3.2.0\n",
      "\u001b[?25l  Downloading https://files.pythonhosted.org/packages/67/fe/2584ab143719f073abb4884049a1ef2e5daf277d9c5a3a47df03cd7ad4ab/altair-4.0.0-py2.py3-none-any.whl (709kB)\n",
      "\u001b[K     |████████████████████████████████| 716kB 716kB/s eta 0:00:01\n",
      "\u001b[?25hCollecting validators\n",
      "  Downloading https://files.pythonhosted.org/packages/72/8a/f99287daae8cfef938e6eec785f6e259bf6bad93269d5398bb546d5b1563/validators-0.14.1.tar.gz\n",
      "Requirement already satisfied: pytz in /Applications/anaconda3/lib/python3.7/site-packages (from tzlocal->streamlit) (2019.3)\n",
      "Requirement already satisfied: idna<2.9,>=2.5 in /Applications/anaconda3/lib/python3.7/site-packages (from requests->streamlit) (2.8)\n",
      "Requirement already satisfied: chardet<3.1.0,>=3.0.2 in /Applications/anaconda3/lib/python3.7/site-packages (from requests->streamlit) (3.0.4)\n",
      "Requirement already satisfied: urllib3!=1.25.0,!=1.25.1,<1.26,>=1.21.1 in /Applications/anaconda3/lib/python3.7/site-packages (from requests->streamlit) (1.24.2)\n",
      "Requirement already satisfied: certifi>=2017.4.17 in /Applications/anaconda3/lib/python3.7/site-packages (from requests->streamlit) (2019.11.28)\n",
      "Requirement already satisfied: python-dateutil>=2.6.1 in /Applications/anaconda3/lib/python3.7/site-packages (from pandas>=0.21.0->streamlit) (2.8.1)\n",
      "Requirement already satisfied: PyYAML>=3.10 in /Applications/anaconda3/lib/python3.7/site-packages (from watchdog->streamlit) (5.1.2)\n",
      "Collecting argh>=0.24.1\n",
      "  Downloading https://files.pythonhosted.org/packages/06/1c/e667a7126f0b84aaa1c56844337bf0ac12445d1beb9c8a6199a7314944bf/argh-0.26.2-py2.py3-none-any.whl\n",
      "Collecting pathtools>=0.1.1\n",
      "  Downloading https://files.pythonhosted.org/packages/e7/7f/470d6fcdf23f9f3518f6b0b76be9df16dcc8630ad409947f8be2eb0ed13a/pathtools-0.1.2.tar.gz\n",
      "Requirement already satisfied: docutils<0.16,>=0.10 in /Applications/anaconda3/lib/python3.7/site-packages (from botocore->streamlit) (0.15.2)\n",
      "Collecting jmespath<1.0.0,>=0.7.1\n",
      "  Downloading https://files.pythonhosted.org/packages/83/94/7179c3832a6d45b266ddb2aac329e101367fbdb11f425f13771d27f225bb/jmespath-0.9.4-py2.py3-none-any.whl\n",
      "Requirement already satisfied: six>=1.9 in /Applications/anaconda3/lib/python3.7/site-packages (from protobuf>=3.6.0->streamlit) (1.13.0)\n",
      "Requirement already satisfied: setuptools in /Applications/anaconda3/lib/python3.7/site-packages (from protobuf>=3.6.0->streamlit) (42.0.2.post20191203)\n",
      "Collecting s3transfer<0.3.0,>=0.2.0\n",
      "\u001b[?25l  Downloading https://files.pythonhosted.org/packages/16/8a/1fc3dba0c4923c2a76e1ff0d52b305c44606da63f718d14d3231e21c51b0/s3transfer-0.2.1-py2.py3-none-any.whl (70kB)\n",
      "\u001b[K     |████████████████████████████████| 71kB 13.4MB/s eta 0:00:01\n",
      "\u001b[?25hRequirement already satisfied: entrypoints in /Applications/anaconda3/lib/python3.7/site-packages (from altair>=3.2.0->streamlit) (0.3)\n",
      "Requirement already satisfied: jsonschema in /Applications/anaconda3/lib/python3.7/site-packages (from altair>=3.2.0->streamlit) (3.2.0)\n",
      "Requirement already satisfied: toolz in /Applications/anaconda3/lib/python3.7/site-packages (from altair>=3.2.0->streamlit) (0.10.0)\n",
      "Requirement already satisfied: jinja2 in /Applications/anaconda3/lib/python3.7/site-packages (from altair>=3.2.0->streamlit) (2.10.3)\n",
      "Requirement already satisfied: decorator>=3.4.0 in /Applications/anaconda3/lib/python3.7/site-packages (from validators->streamlit) (4.4.1)\n",
      "Requirement already satisfied: importlib-metadata; python_version < \"3.8\" in /Applications/anaconda3/lib/python3.7/site-packages (from jsonschema->altair>=3.2.0->streamlit) (1.1.0)\n",
      "Requirement already satisfied: pyrsistent>=0.14.0 in /Applications/anaconda3/lib/python3.7/site-packages (from jsonschema->altair>=3.2.0->streamlit) (0.15.6)\n",
      "Requirement already satisfied: attrs>=17.4.0 in /Applications/anaconda3/lib/python3.7/site-packages (from jsonschema->altair>=3.2.0->streamlit) (19.3.0)\n",
      "Requirement already satisfied: MarkupSafe>=0.23 in /Applications/anaconda3/lib/python3.7/site-packages (from jinja2->altair>=3.2.0->streamlit) (1.1.1)\n",
      "Requirement already satisfied: zipp>=0.5 in /Applications/anaconda3/lib/python3.7/site-packages (from importlib-metadata; python_version < \"3.8\"->jsonschema->altair>=3.2.0->streamlit) (0.6.0)\n",
      "Requirement already satisfied: more-itertools in /Applications/anaconda3/lib/python3.7/site-packages (from zipp>=0.5->importlib-metadata; python_version < \"3.8\"->jsonschema->altair>=3.2.0->streamlit) (7.2.0)\n",
      "Building wheels for collected packages: blinker, watchdog, tornado, validators, pathtools\n",
      "  Building wheel for blinker (setup.py) ... \u001b[?25ldone\n",
      "\u001b[?25h  Created wheel for blinker: filename=blinker-1.4-cp37-none-any.whl size=13450 sha256=a9f74e33871697880b0f814204b7641bd4ffdaec2285ad63f142f5ba7285c3c9\n",
      "  Stored in directory: /Users/yuanhsiliao/Library/Caches/pip/wheels/92/a0/00/8690a57883956a301d91cf4ec999cc0b258b01e3f548f86e89\n"
     ]
    },
    {
     "name": "stdout",
     "output_type": "stream",
     "text": [
      "  Building wheel for watchdog (setup.py) ... \u001b[?25lerror\n",
      "\u001b[31m  ERROR: Command errored out with exit status 1:\n",
      "   command: /Applications/anaconda3/bin/python -u -c 'import sys, setuptools, tokenize; sys.argv[0] = '\"'\"'/private/var/folders/cz/jkd2fv5d14b8mtgjp14vln5r0000gn/T/pip-install-qejzoy32/watchdog/setup.py'\"'\"'; __file__='\"'\"'/private/var/folders/cz/jkd2fv5d14b8mtgjp14vln5r0000gn/T/pip-install-qejzoy32/watchdog/setup.py'\"'\"';f=getattr(tokenize, '\"'\"'open'\"'\"', open)(__file__);code=f.read().replace('\"'\"'\\r\\n'\"'\"', '\"'\"'\\n'\"'\"');f.close();exec(compile(code, __file__, '\"'\"'exec'\"'\"'))' bdist_wheel -d /private/var/folders/cz/jkd2fv5d14b8mtgjp14vln5r0000gn/T/pip-wheel-c7cfm1qj --python-tag cp37\n",
      "       cwd: /private/var/folders/cz/jkd2fv5d14b8mtgjp14vln5r0000gn/T/pip-install-qejzoy32/watchdog/\n",
      "  Complete output (56 lines):\n",
      "  /private/var/folders/cz/jkd2fv5d14b8mtgjp14vln5r0000gn/T/pip-install-qejzoy32/watchdog/setup.py:20: DeprecationWarning: the imp module is deprecated in favour of importlib; see the module's documentation for alternative uses\n",
      "    import imp\n",
      "  running bdist_wheel\n",
      "  running build\n",
      "  running build_py\n",
      "  creating build\n",
      "  creating build/lib.macosx-10.7-x86_64-3.7\n",
      "  creating build/lib.macosx-10.7-x86_64-3.7/watchdog\n",
      "  copying src/watchdog/watchmedo.py -> build/lib.macosx-10.7-x86_64-3.7/watchdog\n",
      "  copying src/watchdog/version.py -> build/lib.macosx-10.7-x86_64-3.7/watchdog\n",
      "  copying src/watchdog/events.py -> build/lib.macosx-10.7-x86_64-3.7/watchdog\n",
      "  copying src/watchdog/__init__.py -> build/lib.macosx-10.7-x86_64-3.7/watchdog\n",
      "  creating build/lib.macosx-10.7-x86_64-3.7/watchdog/utils\n",
      "  copying src/watchdog/utils/unicode_paths.py -> build/lib.macosx-10.7-x86_64-3.7/watchdog/utils\n",
      "  copying src/watchdog/utils/compat.py -> build/lib.macosx-10.7-x86_64-3.7/watchdog/utils\n",
      "  copying src/watchdog/utils/win32stat.py -> build/lib.macosx-10.7-x86_64-3.7/watchdog/utils\n",
      "  copying src/watchdog/utils/__init__.py -> build/lib.macosx-10.7-x86_64-3.7/watchdog/utils\n",
      "  copying src/watchdog/utils/dirsnapshot.py -> build/lib.macosx-10.7-x86_64-3.7/watchdog/utils\n",
      "  copying src/watchdog/utils/delayed_queue.py -> build/lib.macosx-10.7-x86_64-3.7/watchdog/utils\n",
      "  copying src/watchdog/utils/platform.py -> build/lib.macosx-10.7-x86_64-3.7/watchdog/utils\n",
      "  copying src/watchdog/utils/importlib2.py -> build/lib.macosx-10.7-x86_64-3.7/watchdog/utils\n",
      "  copying src/watchdog/utils/bricks.py -> build/lib.macosx-10.7-x86_64-3.7/watchdog/utils\n",
      "  copying src/watchdog/utils/echo.py -> build/lib.macosx-10.7-x86_64-3.7/watchdog/utils\n",
      "  copying src/watchdog/utils/event_backport.py -> build/lib.macosx-10.7-x86_64-3.7/watchdog/utils\n",
      "  copying src/watchdog/utils/decorators.py -> build/lib.macosx-10.7-x86_64-3.7/watchdog/utils\n",
      "  creating build/lib.macosx-10.7-x86_64-3.7/watchdog/observers\n",
      "  copying src/watchdog/observers/fsevents.py -> build/lib.macosx-10.7-x86_64-3.7/watchdog/observers\n",
      "  copying src/watchdog/observers/inotify.py -> build/lib.macosx-10.7-x86_64-3.7/watchdog/observers\n",
      "  copying src/watchdog/observers/__init__.py -> build/lib.macosx-10.7-x86_64-3.7/watchdog/observers\n",
      "  copying src/watchdog/observers/api.py -> build/lib.macosx-10.7-x86_64-3.7/watchdog/observers\n",
      "  copying src/watchdog/observers/inotify_buffer.py -> build/lib.macosx-10.7-x86_64-3.7/watchdog/observers\n",
      "  copying src/watchdog/observers/winapi.py -> build/lib.macosx-10.7-x86_64-3.7/watchdog/observers\n",
      "  copying src/watchdog/observers/read_directory_changes.py -> build/lib.macosx-10.7-x86_64-3.7/watchdog/observers\n",
      "  copying src/watchdog/observers/kqueue.py -> build/lib.macosx-10.7-x86_64-3.7/watchdog/observers\n",
      "  copying src/watchdog/observers/inotify_c.py -> build/lib.macosx-10.7-x86_64-3.7/watchdog/observers\n",
      "  copying src/watchdog/observers/polling.py -> build/lib.macosx-10.7-x86_64-3.7/watchdog/observers\n",
      "  copying src/watchdog/observers/fsevents2.py -> build/lib.macosx-10.7-x86_64-3.7/watchdog/observers\n",
      "  creating build/lib.macosx-10.7-x86_64-3.7/watchdog/tricks\n",
      "  copying src/watchdog/tricks/__init__.py -> build/lib.macosx-10.7-x86_64-3.7/watchdog/tricks\n",
      "  running egg_info\n",
      "  writing src/watchdog.egg-info/PKG-INFO\n",
      "  writing dependency_links to src/watchdog.egg-info/dependency_links.txt\n",
      "  writing entry points to src/watchdog.egg-info/entry_points.txt\n",
      "  writing requirements to src/watchdog.egg-info/requires.txt\n",
      "  writing top-level names to src/watchdog.egg-info/top_level.txt\n",
      "  reading manifest file 'src/watchdog.egg-info/SOURCES.txt'\n",
      "  reading manifest template 'MANIFEST.in'\n",
      "  warning: no files found matching '*.h' under directory 'src'\n",
      "  writing manifest file 'src/watchdog.egg-info/SOURCES.txt'\n",
      "  running build_ext\n",
      "  building '_watchdog_fsevents' extension\n",
      "  creating build/temp.macosx-10.7-x86_64-3.7\n",
      "  creating build/temp.macosx-10.7-x86_64-3.7/src\n",
      "  gcc -Wno-unused-result -Wsign-compare -Wunreachable-code -DNDEBUG -g -fwrapv -O3 -Wall -Wstrict-prototypes -I/Applications/anaconda3/include -arch x86_64 -I/Applications/anaconda3/include -arch x86_64 -DWATCHDOG_VERSION_STRING=\"0.9.0\" -DWATCHDOG_VERSION_MAJOR=0 -DWATCHDOG_VERSION_MINOR=9 -DWATCHDOG_VERSION_BUILD=0 -I/Applications/anaconda3/include/python3.7m -c src/watchdog_fsevents.c -o build/temp.macosx-10.7-x86_64-3.7/src/watchdog_fsevents.o -std=c99 -pedantic -Wall -Wextra -fPIC -Wno-error=unused-command-line-argument-hard-error-in-future\n",
      "  xcrun: error: invalid active developer path (/Library/Developer/CommandLineTools), missing xcrun at: /Library/Developer/CommandLineTools/usr/bin/xcrun\n",
      "  error: command 'gcc' failed with exit status 1\n",
      "  ----------------------------------------\u001b[0m\n",
      "\u001b[31m  ERROR: Failed building wheel for watchdog\u001b[0m\n",
      "\u001b[?25h  Running setup.py clean for watchdog\n",
      "  Building wheel for tornado (setup.py) ... \u001b[?25ldone\n",
      "\u001b[?25h  Created wheel for tornado: filename=tornado-5.1.1-cp37-cp37m-macosx_10_7_x86_64.whl size=449849 sha256=0b4cf13e5f78dee1161020e37490c47160477d8c8afac24897617e850cf40eba\n",
      "  Stored in directory: /Users/yuanhsiliao/Library/Caches/pip/wheels/6d/e1/ce/f4ee2fa420cc6b940123c64992b81047816d0a9fad6b879325\n",
      "  Building wheel for validators (setup.py) ... \u001b[?25ldone\n",
      "\u001b[?25h  Created wheel for validators: filename=validators-0.14.1-cp37-none-any.whl size=17241 sha256=1feaae1557bfb7ebffc456baa0626b3736c57eda8d908301ddeceb0296d58087\n",
      "  Stored in directory: /Users/yuanhsiliao/Library/Caches/pip/wheels/a1/fb/78/272466691f4117974f8d5811e4060fc61e1179a1c00db6f9bb\n",
      "  Building wheel for pathtools (setup.py) ... \u001b[?25ldone\n",
      "\u001b[?25h  Created wheel for pathtools: filename=pathtools-0.1.2-cp37-none-any.whl size=8786 sha256=ce2050d18faef2a81740030ac9fdeca3cca583822615da4e9214b33e6b7d86a1\n",
      "  Stored in directory: /Users/yuanhsiliao/Library/Caches/pip/wheels/0b/04/79/c3b0c3a0266a3cb4376da31e5bfe8bba0c489246968a68e843\n",
      "Successfully built blinker tornado validators pathtools\n",
      "Failed to build watchdog\n",
      "\u001b[31mERROR: botocore 1.13.41 has requirement python-dateutil<2.8.1,>=2.1; python_version >= \"2.7\", but you'll have python-dateutil 2.8.1 which is incompatible.\u001b[0m\n",
      "Installing collected packages: enum-compat, blinker, base58, toml, astor, tzlocal, argh, pathtools, watchdog, jmespath, botocore, protobuf, tornado, s3transfer, boto3, altair, validators, streamlit\n",
      "    Running setup.py install for watchdog ... \u001b[?25lerror\n",
      "\u001b[31m    ERROR: Command errored out with exit status 1:\n",
      "     command: /Applications/anaconda3/bin/python -u -c 'import sys, setuptools, tokenize; sys.argv[0] = '\"'\"'/private/var/folders/cz/jkd2fv5d14b8mtgjp14vln5r0000gn/T/pip-install-qejzoy32/watchdog/setup.py'\"'\"'; __file__='\"'\"'/private/var/folders/cz/jkd2fv5d14b8mtgjp14vln5r0000gn/T/pip-install-qejzoy32/watchdog/setup.py'\"'\"';f=getattr(tokenize, '\"'\"'open'\"'\"', open)(__file__);code=f.read().replace('\"'\"'\\r\\n'\"'\"', '\"'\"'\\n'\"'\"');f.close();exec(compile(code, __file__, '\"'\"'exec'\"'\"'))' install --record /private/var/folders/cz/jkd2fv5d14b8mtgjp14vln5r0000gn/T/pip-record-j71ayaf0/install-record.txt --single-version-externally-managed --compile\n",
      "         cwd: /private/var/folders/cz/jkd2fv5d14b8mtgjp14vln5r0000gn/T/pip-install-qejzoy32/watchdog/\n",
      "    Complete output (56 lines):\n",
      "    /private/var/folders/cz/jkd2fv5d14b8mtgjp14vln5r0000gn/T/pip-install-qejzoy32/watchdog/setup.py:20: DeprecationWarning: the imp module is deprecated in favour of importlib; see the module's documentation for alternative uses\n",
      "      import imp\n",
      "    running install\n",
      "    running build\n",
      "    running build_py\n",
      "    creating build\n",
      "    creating build/lib.macosx-10.7-x86_64-3.7\n",
      "    creating build/lib.macosx-10.7-x86_64-3.7/watchdog\n",
      "    copying src/watchdog/watchmedo.py -> build/lib.macosx-10.7-x86_64-3.7/watchdog\n",
      "    copying src/watchdog/version.py -> build/lib.macosx-10.7-x86_64-3.7/watchdog\n",
      "    copying src/watchdog/events.py -> build/lib.macosx-10.7-x86_64-3.7/watchdog\n",
      "    copying src/watchdog/__init__.py -> build/lib.macosx-10.7-x86_64-3.7/watchdog\n",
      "    creating build/lib.macosx-10.7-x86_64-3.7/watchdog/utils\n",
      "    copying src/watchdog/utils/unicode_paths.py -> build/lib.macosx-10.7-x86_64-3.7/watchdog/utils\n",
      "    copying src/watchdog/utils/compat.py -> build/lib.macosx-10.7-x86_64-3.7/watchdog/utils\n",
      "    copying src/watchdog/utils/win32stat.py -> build/lib.macosx-10.7-x86_64-3.7/watchdog/utils\n",
      "    copying src/watchdog/utils/__init__.py -> build/lib.macosx-10.7-x86_64-3.7/watchdog/utils\n",
      "    copying src/watchdog/utils/dirsnapshot.py -> build/lib.macosx-10.7-x86_64-3.7/watchdog/utils\n",
      "    copying src/watchdog/utils/delayed_queue.py -> build/lib.macosx-10.7-x86_64-3.7/watchdog/utils\n",
      "    copying src/watchdog/utils/platform.py -> build/lib.macosx-10.7-x86_64-3.7/watchdog/utils\n",
      "    copying src/watchdog/utils/importlib2.py -> build/lib.macosx-10.7-x86_64-3.7/watchdog/utils\n",
      "    copying src/watchdog/utils/bricks.py -> build/lib.macosx-10.7-x86_64-3.7/watchdog/utils\n",
      "    copying src/watchdog/utils/echo.py -> build/lib.macosx-10.7-x86_64-3.7/watchdog/utils\n",
      "    copying src/watchdog/utils/event_backport.py -> build/lib.macosx-10.7-x86_64-3.7/watchdog/utils\n",
      "    copying src/watchdog/utils/decorators.py -> build/lib.macosx-10.7-x86_64-3.7/watchdog/utils\n",
      "    creating build/lib.macosx-10.7-x86_64-3.7/watchdog/observers\n",
      "    copying src/watchdog/observers/fsevents.py -> build/lib.macosx-10.7-x86_64-3.7/watchdog/observers\n",
      "    copying src/watchdog/observers/inotify.py -> build/lib.macosx-10.7-x86_64-3.7/watchdog/observers\n",
      "    copying src/watchdog/observers/__init__.py -> build/lib.macosx-10.7-x86_64-3.7/watchdog/observers\n",
      "    copying src/watchdog/observers/api.py -> build/lib.macosx-10.7-x86_64-3.7/watchdog/observers\n",
      "    copying src/watchdog/observers/inotify_buffer.py -> build/lib.macosx-10.7-x86_64-3.7/watchdog/observers\n",
      "    copying src/watchdog/observers/winapi.py -> build/lib.macosx-10.7-x86_64-3.7/watchdog/observers\n",
      "    copying src/watchdog/observers/read_directory_changes.py -> build/lib.macosx-10.7-x86_64-3.7/watchdog/observers\n",
      "    copying src/watchdog/observers/kqueue.py -> build/lib.macosx-10.7-x86_64-3.7/watchdog/observers\n",
      "    copying src/watchdog/observers/inotify_c.py -> build/lib.macosx-10.7-x86_64-3.7/watchdog/observers\n",
      "    copying src/watchdog/observers/polling.py -> build/lib.macosx-10.7-x86_64-3.7/watchdog/observers\n",
      "    copying src/watchdog/observers/fsevents2.py -> build/lib.macosx-10.7-x86_64-3.7/watchdog/observers\n",
      "    creating build/lib.macosx-10.7-x86_64-3.7/watchdog/tricks\n",
      "    copying src/watchdog/tricks/__init__.py -> build/lib.macosx-10.7-x86_64-3.7/watchdog/tricks\n",
      "    running egg_info\n",
      "    writing src/watchdog.egg-info/PKG-INFO\n",
      "    writing dependency_links to src/watchdog.egg-info/dependency_links.txt\n",
      "    writing entry points to src/watchdog.egg-info/entry_points.txt\n",
      "    writing requirements to src/watchdog.egg-info/requires.txt\n",
      "    writing top-level names to src/watchdog.egg-info/top_level.txt\n",
      "    reading manifest file 'src/watchdog.egg-info/SOURCES.txt'\n",
      "    reading manifest template 'MANIFEST.in'\n",
      "    warning: no files found matching '*.h' under directory 'src'\n",
      "    writing manifest file 'src/watchdog.egg-info/SOURCES.txt'\n",
      "    running build_ext\n",
      "    building '_watchdog_fsevents' extension\n",
      "    creating build/temp.macosx-10.7-x86_64-3.7\n",
      "    creating build/temp.macosx-10.7-x86_64-3.7/src\n",
      "    gcc -Wno-unused-result -Wsign-compare -Wunreachable-code -DNDEBUG -g -fwrapv -O3 -Wall -Wstrict-prototypes -I/Applications/anaconda3/include -arch x86_64 -I/Applications/anaconda3/include -arch x86_64 -DWATCHDOG_VERSION_STRING=\"0.9.0\" -DWATCHDOG_VERSION_MAJOR=0 -DWATCHDOG_VERSION_MINOR=9 -DWATCHDOG_VERSION_BUILD=0 -I/Applications/anaconda3/include/python3.7m -c src/watchdog_fsevents.c -o build/temp.macosx-10.7-x86_64-3.7/src/watchdog_fsevents.o -std=c99 -pedantic -Wall -Wextra -fPIC -Wno-error=unused-command-line-argument-hard-error-in-future\n",
      "    xcrun: error: invalid active developer path (/Library/Developer/CommandLineTools), missing xcrun at: /Library/Developer/CommandLineTools/usr/bin/xcrun\n",
      "    error: command 'gcc' failed with exit status 1\n",
      "    ----------------------------------------\u001b[0m\n"
     ]
    },
    {
     "name": "stdout",
     "output_type": "stream",
     "text": [
      "\u001b[31mERROR: Command errored out with exit status 1: /Applications/anaconda3/bin/python -u -c 'import sys, setuptools, tokenize; sys.argv[0] = '\"'\"'/private/var/folders/cz/jkd2fv5d14b8mtgjp14vln5r0000gn/T/pip-install-qejzoy32/watchdog/setup.py'\"'\"'; __file__='\"'\"'/private/var/folders/cz/jkd2fv5d14b8mtgjp14vln5r0000gn/T/pip-install-qejzoy32/watchdog/setup.py'\"'\"';f=getattr(tokenize, '\"'\"'open'\"'\"', open)(__file__);code=f.read().replace('\"'\"'\\r\\n'\"'\"', '\"'\"'\\n'\"'\"');f.close();exec(compile(code, __file__, '\"'\"'exec'\"'\"'))' install --record /private/var/folders/cz/jkd2fv5d14b8mtgjp14vln5r0000gn/T/pip-record-j71ayaf0/install-record.txt --single-version-externally-managed --compile Check the logs for full command output.\u001b[0m\n",
      "\u001b[?25h"
     ]
    }
   ],
   "source": [
    "!pip install streamlit"
   ]
  },
  {
   "cell_type": "code",
   "execution_count": null,
   "metadata": {},
   "outputs": [],
   "source": []
  }
 ],
 "metadata": {
  "kernelspec": {
   "display_name": "Python 3",
   "language": "python",
   "name": "python3"
  },
  "language_info": {
   "codemirror_mode": {
    "name": "ipython",
    "version": 3
   },
   "file_extension": ".py",
   "mimetype": "text/x-python",
   "name": "python",
   "nbconvert_exporter": "python",
   "pygments_lexer": "ipython3",
   "version": "3.7.3"
  }
 },
 "nbformat": 4,
 "nbformat_minor": 2
}
